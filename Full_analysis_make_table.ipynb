{
 "cells": [
  {
   "cell_type": "code",
   "execution_count": 1,
   "metadata": {
    "collapsed": true
   },
   "outputs": [],
   "source": [
    "import numpy as np\n",
    "import matplotlib.pyplot as plt\n",
    "from matplotlib import cm\n",
    "%matplotlib inline\n",
    "%config InlineBackend.figure_format='retina'\n",
    "import collections\n",
    "import copy\n",
    "from scipy import stats\n",
    "from matplotlib import rcParams\n",
    "rcParams['font.family'] = 'serif'\n",
    "rcParams['mathtext.fontset'] = 'dejavuserif'\n",
    "rcParams['mathtext.rm'] = 'serif'\n",
    "rcParams['mathtext.it'] = 'serif:italic'\n",
    "rcParams['mathtext.bf'] = 'serif:bold'\n",
    "rcParams['axes.titlepad'] = 12"
   ]
  },
  {
   "cell_type": "code",
   "execution_count": 2,
   "metadata": {
    "collapsed": true
   },
   "outputs": [],
   "source": [
    "import processing_functions as pf"
   ]
  },
  {
   "cell_type": "code",
   "execution_count": 3,
   "metadata": {
    "collapsed": false
   },
   "outputs": [
    {
     "data": {
      "text/plain": [
       "<module 'processing_functions' from 'processing_functions.pyc'>"
      ]
     },
     "execution_count": 3,
     "metadata": {},
     "output_type": "execute_result"
    }
   ],
   "source": [
    "reload(pf)"
   ]
  },
  {
   "cell_type": "code",
   "execution_count": 4,
   "metadata": {
    "collapsed": true
   },
   "outputs": [],
   "source": [
    "covtot_19p0 = pf.calc_covariance((np.load('Run_102218/jk_19p0_x.npz')['jkcov']+np.load('Run_102218/jk_19p0_y.npz')['jkcov']\\\n",
    "                             +np.load('Run_102218/jk_19p0_z.npz')['jkcov'])/3.,\\\n",
    "                             np.load('Run_102218/fidreal_19p0.npz')['func'],\\\n",
    "                             np.load('Run_102218/fidrandom_19p0.npz'))\n",
    "cov_cut_19p0 = pf.cut_by_func_2D(covtot_19p0,funcidx={'w':range(1,30),'d':range(30,60),'v':range(60,90),\\\n",
    "                                           'c':range(90,120),'a':range(120,150),'r':range(150,180)})\n",
    "invcov_cut_19p0 = pf.apply_to_dict(pf.inv_cov,cov_cut_19p0,rcond=1e-5)\n",
    "\n",
    "covtot_19p5 = pf.calc_covariance((np.load('Run_102218/jk_19p5_x.npz')['jkcov']+np.load('Run_102218/jk_19p5_y.npz')['jkcov']\\\n",
    "                             +np.load('Run_102218/jk_19p5_z.npz')['jkcov'])/3.,\\\n",
    "                             np.load('Run_102218/fidreal_19p5.npz')['func'],\\\n",
    "                             np.load('Run_102218/fidrandom_19p5.npz'))\n",
    "cov_cut_19p5 = pf.cut_by_func_2D(covtot_19p5,funcidx={'w':range(1,30),'d':range(30,60),'v':range(60,90),\\\n",
    "                                           'c':range(90,120),'a':range(120,150),'r':range(150,180)})\n",
    "invcov_cut_19p5 = pf.apply_to_dict(pf.inv_cov,cov_cut_19p5,rcond=1e-5)\n",
    "\n",
    "covtot_20p0 = pf.calc_covariance((np.load('Run_102218/jk_20p0_x.npz')['jkcov']+np.load('Run_102218/jk_20p0_y.npz')['jkcov']\\\n",
    "                             +np.load('Run_102218/jk_20p0_z.npz')['jkcov'])/3.,\\\n",
    "                             np.load('Run_102218/fidreal_20p0.npz')['func'],\\\n",
    "                             np.load('Run_102218/fidrandom_20p0.npz'))\n",
    "cov_cut_20p0 = pf.cut_by_func_2D(covtot_20p0,funcidx={'w':range(1,30),'d':range(30,60),'v':range(60,90),\\\n",
    "                                           'c':range(90,120),'a':range(120,150),'r':range(150,180)})\n",
    "invcov_cut_20p0 = pf.apply_to_dict(pf.inv_cov,cov_cut_20p0,rcond=1e-5)\n",
    "\n",
    "covtot_20p5 = pf.calc_covariance((np.load('Run_102218/jk_20p5_x.npz')['jkcov']+np.load('Run_102218/jk_20p5_y.npz')['jkcov']\\\n",
    "                             +np.load('Run_102218/jk_20p5_z.npz')['jkcov'])/3.,\\\n",
    "                             np.load('Run_102218/fidreal_20p5.npz')['func'],\\\n",
    "                             np.load('Run_102218/fidrandom_20p5.npz'))\n",
    "cov_cut_20p5 = pf.cut_by_func_2D(covtot_20p5,funcidx={'w':range(1,30),'d':range(30,60),'v':range(60,90),\\\n",
    "                                           'c':range(90,116),'a':range(120,146),'r':range(150,180)})\n",
    "invcov_cut_20p5 = pf.apply_to_dict(pf.inv_cov,cov_cut_20p5,rcond=1e-5)\n",
    "\n",
    "covtot_21p0 = pf.calc_covariance((np.load('Run_102218/jk_21p0_x.npz')['jkcov']+np.load('Run_102218/jk_21p0_y.npz')['jkcov']\\\n",
    "                             +np.load('Run_102218/jk_21p0_z.npz')['jkcov'])/3.,\\\n",
    "                             np.load('Run_102218/fidreal_21p0.npz')['func'],\\\n",
    "                             np.load('Run_102218/fidrandom_21p0.npz'))\n",
    "cov_cut_21p0 = pf.cut_by_func_2D(covtot_21p0,funcidx={'w':range(1,30),'d':range(30,60),'v':range(60,90),\\\n",
    "                                           'c':range(90,111),'a':range(120,142),'r':range(150,180)})\n",
    "invcov_cut_21p0 = pf.apply_to_dict(pf.inv_cov,cov_cut_21p0,rcond=1e-5)"
   ]
  },
  {
   "cell_type": "code",
   "execution_count": 5,
   "metadata": {
    "collapsed": true
   },
   "outputs": [],
   "source": [
    "pertfunc_dict_19p0,pertparam_19p0 = pf.load_pert('-19.0')\n",
    "trim_mean_curves_19p0 = pf.trimmean_of_dict(pertfunc_dict_19p0)\n",
    "func_cut_tm_19p0 = pf.cut_by_func_1D(trim_mean_curves_19p0,axis=1,funcidx={'w':range(1,30),'d':range(30,60),'v':range(60,90),\\\n",
    "                                           'c':range(90,120),'a':range(120,150),'r':range(150,180)})\n",
    "pertfunc_dict_19p5,pertparam_19p5 = pf.load_pert('-19.5')\n",
    "trim_mean_curves_19p5 = pf.trimmean_of_dict(pertfunc_dict_19p5)\n",
    "func_cut_tm_19p5 = pf.cut_by_func_1D(trim_mean_curves_19p5,axis=1,funcidx={'w':range(1,30),'d':range(30,60),'v':range(60,90),\\\n",
    "                                           'c':range(90,120),'a':range(120,150),'r':range(150,180)})\n",
    "pertfunc_dict_20p0,pertparam_20p0 = pf.load_pert('-20.0')\n",
    "trim_mean_curves_20p0 = pf.trimmean_of_dict(pertfunc_dict_20p0)\n",
    "func_cut_tm_20p0 = pf.cut_by_func_1D(trim_mean_curves_20p0,axis=1,funcidx={'w':range(1,30),'d':range(30,60),'v':range(60,90),\\\n",
    "                                           'c':range(90,120),'a':range(120,150),'r':range(150,180)})\n",
    "pertfunc_dict_20p5,pertparam_20p5 = pf.load_pert('-20.5')\n",
    "trim_mean_curves_20p5 = pf.trimmean_of_dict(pertfunc_dict_20p5)\n",
    "func_cut_tm_20p5 = pf.cut_by_func_1D(trim_mean_curves_20p5,axis=1,funcidx={'w':range(1,30),'d':range(30,60),'v':range(60,90),\\\n",
    "                                           'c':range(90,116),'a':range(120,146),'r':range(150,180)})\n",
    "pertfunc_dict_21p0,pertparam_21p0 = pf.load_pert('-21.0')\n",
    "trim_mean_curves_21p0 = pf.trimmean_of_dict(pertfunc_dict_21p0)\n",
    "func_cut_tm_21p0 = pf.cut_by_func_1D(trim_mean_curves_21p0,axis=1,funcidx={'w':range(1,30),'d':range(30,60),'v':range(60,90),\\\n",
    "                                           'c':range(90,111),'a':range(120,142),'r':range(150,180)})"
   ]
  },
  {
   "cell_type": "code",
   "execution_count": 6,
   "metadata": {
    "collapsed": true
   },
   "outputs": [],
   "source": [
    "gcv_alphas_tm_19p0 = pf.gcv_alphas(trim_mean_curves_19p0,pertparam_19p0)\n",
    "gcv_alphas_cut_tm_19p0 = pf.cut_by_func_1D(gcv_alphas_tm_19p0,axis=1,funcidx={'w':range(1,30),'d':range(30,60),'v':range(60,90),\\\n",
    "                                           'c':range(90,120),'a':range(120,150),'r':range(150,180)})\n",
    "gcv_alphas_tm_19p5 = pf.gcv_alphas(trim_mean_curves_19p5,pertparam_19p5)\n",
    "gcv_alphas_cut_tm_19p5 = pf.cut_by_func_1D(gcv_alphas_tm_19p5,axis=1,funcidx={'w':range(1,30),'d':range(30,60),'v':range(60,90),\\\n",
    "                                           'c':range(90,120),'a':range(120,150),'r':range(150,180)})\n",
    "gcv_alphas_tm_20p0 = pf.gcv_alphas(trim_mean_curves_20p0,pertparam_20p0)\n",
    "gcv_alphas_cut_tm_20p0 = pf.cut_by_func_1D(gcv_alphas_tm_20p0,axis=1,funcidx={'w':range(1,30),'d':range(30,60),'v':range(60,90),\\\n",
    "                                           'c':range(90,120),'a':range(120,150),'r':range(150,180)})\n",
    "gcv_alphas_tm_20p5 = pf.gcv_alphas(trim_mean_curves_20p5,pertparam_20p5)\n",
    "gcv_alphas_cut_tm_20p5 = pf.cut_by_func_1D(gcv_alphas_tm_20p5,axis=1,funcidx={'w':range(1,30),'d':range(30,60),'v':range(60,90),\\\n",
    "                                           'c':range(90,116),'a':range(120,146),'r':range(150,180)})\n",
    "gcv_alphas_tm_21p0 = pf.gcv_alphas(trim_mean_curves_21p0,pertparam_21p0)\n",
    "gcv_alphas_cut_tm_21p0 = pf.cut_by_func_1D(gcv_alphas_tm_21p0,axis=1,funcidx={'w':range(1,30),'d':range(30,60),'v':range(60,90),\\\n",
    "                                           'c':range(90,111),'a':range(120,142),'r':range(150,180)})"
   ]
  },
  {
   "cell_type": "code",
   "execution_count": 7,
   "metadata": {
    "collapsed": true
   },
   "outputs": [],
   "source": [
    "def iterate_smooth(func_cut, gcv_alphas_cut, invcov_cut, pertparam, oneside, p0, combkey, amin, maxiter=5):  #for each combination separately\n",
    "    it = 0\n",
    "    iter_sigma = []\n",
    "    iter_sigma.append(np.zeros(6))\n",
    "    f = func_cut[combkey]\n",
    "    alphas = np.ones((6,f.shape[1]))\n",
    "    while it<maxiter:\n",
    "        it += 1\n",
    "        alphas = np.maximum(gcv_alphas_cut[combkey],alphas)\n",
    "        alphas = np.maximum(alphas,(amin*np.ones((f.shape[1],6))).T)\n",
    "        alphas = np.minimum(np.ones((6,f.shape[1])),alphas)\n",
    "        dfdp = pf.locfit_comb(f,alphas,pertparam,p0)\n",
    "        fisher = pf.calc_fisher(dfdp,invcov_cut[combkey])\n",
    "        sigma = pf.calc_1sigma(fisher)\n",
    "        iter_sigma.append(sigma)\n",
    "        if np.all(iter_sigma[-2]<1.2*sigma) and np.all(iter_sigma[-2]>sigma/1.2):\n",
    "            break\n",
    "        if it<maxiter-1:\n",
    "            alphas = (np.ones((f.shape[1],6))*pf.sigma_to_alpha(sigma,oneside)).T\n",
    "    sigma_u = 1./np.sqrt(fisher.diagonal())\n",
    "    return iter_sigma[-1], sigma_u, fisher, dfdp, alphas"
   ]
  },
  {
   "cell_type": "code",
   "execution_count": 8,
   "metadata": {
    "collapsed": true
   },
   "outputs": [],
   "source": [
    "klist_all = ['w','d','v','c','a','r',                                      # 0-5\n",
    "         'wd','wv','wc','wa','wr',                                         # 6-10\n",
    "         'dv','dc','da','dr',                                              # 11-14\n",
    "         'vc','va','vr',                                                   # 15-17\n",
    "         'ca','cr','ar',                                                   # 18-20\n",
    "         'wdv','wdc','wda','wdr','wvc','wva','wvr','wca','wcr','war',      # 21-30\n",
    "         'dvc','dva','dvr','dca','dcr','dar',                              # 31-36\n",
    "         'vca','vcr','var','car',                                          # 37-40\n",
    "         'wdvc','wdva','wdvr','wdca','wdcr','wdar',                        # 41-46\n",
    "         'wvca','wvcr','wvar','wcar',                                      # 47-50\n",
    "         'dvca','dvcr','dvar','dcar','vcar',                               # 51-55\n",
    "         'wdvca','wdvcr','wdvar','wdcar','wvcar','dvcar',                  # 56-61\n",
    "         'wdvcar']                                                         # 62"
   ]
  },
  {
   "cell_type": "code",
   "execution_count": 9,
   "metadata": {
    "collapsed": true
   },
   "outputs": [],
   "source": [
    "sigma_tm_19p0 = {}\n",
    "sigma_u_tm_19p0 = {}\n",
    "fisher_tm_19p0 = {}\n",
    "dfdp_tm_19p0 = {}\n",
    "alphas_tm_19p0 = {}\n",
    "for k in klist_all:\n",
    "    sigma_tm_19p0[k], sigma_u_tm_19p0[k], fisher_tm_19p0[k], dfdp_tm_19p0[k], alphas_tm_19p0[k] = \\\n",
    "    iterate_smooth(func_cut_tm_19p0,gcv_alphas_cut_tm_19p0,invcov_cut_19p0,pertparam_19p0,\\\n",
    "                   pf.oneside_ranges[0],pf.p19p0,k,np.array((0,0,0.25,0,0.5,0.25)))"
   ]
  },
  {
   "cell_type": "code",
   "execution_count": 11,
   "metadata": {
    "collapsed": false
   },
   "outputs": [],
   "source": [
    "sigma_tm_19p5 = {}\n",
    "sigma_u_tm_19p5 = {}\n",
    "fisher_tm_19p5 = {}\n",
    "dfdp_tm_19p5 = {}\n",
    "alphas_tm_19p5 = {}\n",
    "for k in klist_all:\n",
    "    sigma_tm_19p5[k], sigma_u_tm_19p5[k], fisher_tm_19p5[k], dfdp_tm_19p5[k], alphas_tm_19p5[k] = \\\n",
    "    iterate_smooth(func_cut_tm_19p5,gcv_alphas_cut_tm_19p5,invcov_cut_19p5,pertparam_19p5,\\\n",
    "                   pf.oneside_ranges[1],pf.p19p5,k,np.array((0.35,0,0.4,0.15,0.5,0.35)))"
   ]
  },
  {
   "cell_type": "code",
   "execution_count": 12,
   "metadata": {
    "collapsed": true
   },
   "outputs": [],
   "source": [
    "sigma_tm_20p0 = {}\n",
    "sigma_u_tm_20p0 = {}\n",
    "fisher_tm_20p0 = {}\n",
    "dfdp_tm_20p0 = {}\n",
    "alphas_tm_20p0 = {}\n",
    "for k in klist_all:\n",
    "    sigma_tm_20p0[k], sigma_u_tm_20p0[k], fisher_tm_20p0[k], dfdp_tm_20p0[k], alphas_tm_20p0[k] = \\\n",
    "    iterate_smooth(func_cut_tm_20p0,gcv_alphas_cut_tm_20p0,invcov_cut_20p0,pertparam_20p0,\\\n",
    "                   pf.oneside_ranges[2],pf.p20p0,k,np.array((0.35,0,0.45,0.25,0.5,0.4)))"
   ]
  },
  {
   "cell_type": "code",
   "execution_count": 13,
   "metadata": {
    "collapsed": true
   },
   "outputs": [],
   "source": [
    "sigma_tm_20p5 = {}\n",
    "sigma_u_tm_20p5 = {}\n",
    "fisher_tm_20p5 = {}\n",
    "dfdp_tm_20p5 = {}\n",
    "alphas_tm_20p5 = {}\n",
    "for k in klist_all:\n",
    "    sigma_tm_20p5[k], sigma_u_tm_20p5[k], fisher_tm_20p5[k], dfdp_tm_20p5[k], alphas_tm_20p5[k] = \\\n",
    "    iterate_smooth(func_cut_tm_20p5,gcv_alphas_cut_tm_20p5,invcov_cut_20p5,pertparam_20p5,\\\n",
    "                   pf.oneside_ranges[3],pf.p20p5,k,np.array((0.5,0,0.8,0.15,0.75,0.5)))"
   ]
  },
  {
   "cell_type": "code",
   "execution_count": 14,
   "metadata": {
    "collapsed": true
   },
   "outputs": [],
   "source": [
    "sigma_tm_21p0 = {}\n",
    "sigma_u_tm_21p0 = {}\n",
    "fisher_tm_21p0 = {}\n",
    "dfdp_tm_21p0 = {}\n",
    "alphas_tm_21p0 = {}\n",
    "for k in klist_all:\n",
    "    sigma_tm_21p0[k], sigma_u_tm_21p0[k], fisher_tm_21p0[k], dfdp_tm_21p0[k], alphas_tm_21p0[k] = \\\n",
    "    iterate_smooth(func_cut_tm_21p0,gcv_alphas_cut_tm_21p0,invcov_cut_21p0,pertparam_21p0,\\\n",
    "                   pf.oneside_ranges[4],pf.p21p0,k,np.array((0.7,0,0.9,0.2,0.9,0.75)))"
   ]
  },
  {
   "cell_type": "code",
   "execution_count": 17,
   "metadata": {
    "collapsed": false,
    "scrolled": false
   },
   "outputs": [
    {
     "name": "stdout",
     "output_type": "stream",
     "text": [
      "w [ 0.03024918  0.03838117  0.57735777  0.2657666   0.56870978  0.2533663 ]\n",
      "d [ 0.05703156  0.07374487  0.14462059  0.08709657  0.71111859  0.26913892]\n",
      "v [ 0.68997124  0.37211398  0.12346783  0.21544336  0.60376614  3.84784146]\n",
      "c [ 0.06424641  0.13659135  0.13375254  0.13269102  1.00048319  0.11287564]\n",
      "a [ 0.0485834   0.056334    0.13999763  0.06176887  0.42664682  0.33644577]\n",
      "r [ 0.03230664  0.0486502   0.06398288  0.04560584  0.48410369  0.17631828]\n",
      "wd [ 0.013022    0.01729793  0.10818456  0.05268056  0.30790423  0.16263745]\n",
      "wv [ 0.013583    0.02056994  0.07429075  0.04368744  0.24686359  0.1977057 ]\n",
      "wc [ 0.00854886  0.0124397   0.04570528  0.02483359  0.14431368  0.09286841]\n",
      "wa [ 0.01028596  0.01589     0.09969785  0.04750929  0.14742827  0.15964248]\n",
      "wr [ 0.00834498  0.01320035  0.05785598  0.03107414  0.20677333  0.10328336]\n",
      "dv [ 0.02966979  0.03369583  0.0771485   0.05169379  0.26028602  0.16161261]\n",
      "dc [ 0.01663466  0.02146609  0.0503888   0.03188576  0.16521255  0.09305254]\n",
      "da [ 0.02315982  0.02739832  0.07869022  0.04265083  0.15837764  0.1566069 ]\n",
      "dr [ 0.01585053  0.02270815  0.05531499  0.03272136  0.2424416   0.11458943]\n",
      "vc [ 0.02796299  0.05553804  0.05633711  0.05137017  0.41954771  0.11442144]\n",
      "va [ 0.04566456  0.03668515  0.05903995  0.04378377  0.21331312  0.31740734]\n",
      "vr [ 0.02630674  0.03973085  0.04667889  0.03256724  0.35566823  0.16495747]\n",
      "ca [ 0.01546301  0.02724157  0.05368925  0.03447251  0.22535468  0.09932925]\n",
      "cr [ 0.01581875  0.02342476  0.05077154  0.03214571  0.20635594  0.09252267]\n",
      "ar [ 0.02038887  0.02955719  0.05178565  0.03191928  0.2121222   0.13289007]\n",
      "wdv [ 0.01041468  0.01241797  0.05176973  0.02972779  0.21457019  0.11658543]\n",
      "wdc [ 0.00817294  0.01065103  0.04054686  0.02256483  0.13558099  0.0780699 ]\n",
      "wda [ 0.0092717   0.0121905   0.06776328  0.03269321  0.13420761  0.11755066]\n",
      "wdr [ 0.00793422  0.01125244  0.0506048   0.02715523  0.19320338  0.08449569]\n",
      "wvc [ 0.00820547  0.01180255  0.03606309  0.01902412  0.13522289  0.09148363]\n",
      "wva [ 0.00961282  0.01472974  0.04454225  0.02491552  0.12862201  0.14649665]\n",
      "wvr [ 0.00792023  0.01201986  0.04208167  0.02273406  0.17778331  0.10019869]\n",
      "wca [ 0.00789016  0.01063877  0.04315477  0.02311679  0.1119679   0.07744587]\n",
      "wcr [ 0.00739698  0.01118108  0.0430712   0.02323724  0.13697332  0.07486204]\n",
      "war [ 0.0075334   0.01132479  0.04765732  0.02458947  0.1283147   0.08855845]\n",
      "dvc [ 0.01551455  0.02040409  0.0391313   0.02490723  0.15445659  0.09063515]\n",
      "dva [ 0.02146614  0.02408881  0.04866211  0.03268546  0.13738177  0.11992888]\n",
      "dvr [ 0.01496474  0.02097747  0.04235304  0.02552493  0.2054479   0.10662358]\n",
      "dca [ 0.01277289  0.01725164  0.04541888  0.02664299  0.12735766  0.07934264]\n",
      "dcr [ 0.01239745  0.01750456  0.04371215  0.02646606  0.15444158  0.0758834 ]\n",
      "dar [ 0.01387719  0.01932229  0.04625858  0.02653125  0.14611283  0.09253279]\n",
      "vca [ 0.01473136  0.02475681  0.04308825  0.02885643  0.1960036   0.09707823]\n",
      "vcr [ 0.01495277  0.02207113  0.0401148   0.02599664  0.19165695  0.09138654]\n",
      "var [ 0.01793434  0.02526417  0.0413957   0.02811244  0.17859939  0.12874495]\n",
      "car [ 0.01226811  0.01869893  0.044059    0.02442889  0.14390089  0.08153034]\n",
      "wdvc [ 0.00785202  0.01016261  0.03216057  0.01754302  0.12726828  0.07687342]\n",
      "wdva [ 0.00871678  0.01089062  0.0367025   0.02050132  0.11912774  0.09513511]\n",
      "wdvr [ 0.00752603  0.01012028  0.03775996  0.02043435  0.16675127  0.07967224]\n",
      "wdca [ 0.00758626  0.00965545  0.03812677  0.02071005  0.10329356  0.06636969]\n",
      "wdcr [ 0.00710505  0.00990651  0.03788315  0.02076064  0.12911531  0.06529365]\n",
      "wdar [ 0.00726285  0.01007568  0.04205704  0.02190523  0.11894811  0.07136757]\n",
      "wvca [ 0.00759048  0.01018285  0.03338835  0.01799643  0.10705129  0.07594147]\n",
      "wvcr [ 0.00710257  0.01051433  0.03362744  0.01797157  0.12914383  0.07396329]\n",
      "wvar [ 0.0071906   0.01063412  0.03494665  0.01808326  0.11763438  0.0858679 ]\n",
      "wcar [ 0.00695967  0.00906402  0.03882613  0.0195107   0.10751278  0.06617002]\n",
      "dvca [ 0.01234351  0.01658332  0.03635037  0.02198509  0.11812082  0.07652754]\n",
      "dvcr [ 0.0118204   0.0164463   0.03515981  0.02153238  0.14562927  0.0742189 ]\n",
      "dvar [ 0.01294526  0.01736016  0.03682215  0.02256788  0.12789944  0.08646003]\n",
      "dcar [ 0.01031541  0.01427437  0.03819082  0.02083807  0.11568385  0.06619033]\n",
      "vcar [ 0.01175859  0.01777241  0.03654656  0.02122733  0.13450668  0.08035714]\n",
      "wdvca [ 0.00732685  0.00924566  0.03040326  0.0166241   0.09815572  0.06462178]\n",
      "wdvcr [ 0.00681932  0.00930056  0.03036404  0.01658998  0.12184144  0.06381632]\n",
      "wdvar [ 0.00693906  0.00933605  0.03185153  0.01668003  0.10845844  0.06784346]\n",
      "wdcar [ 0.00671849  0.00851169  0.03356427  0.0168921   0.09940126  0.05791645]\n",
      "wvcar [ 0.00667946  0.00871592  0.0317854   0.0162268   0.10268587  0.06513371]\n",
      "dvcar [ 0.00991714  0.01362469  0.03298252  0.01858782  0.10782555  0.06416441]\n",
      "wdvcar [ 0.00645206  0.00817302  0.02845377  0.01455508  0.09447123  0.05631669]\n"
     ]
    }
   ],
   "source": [
    "for k in klist_all:\n",
    "    print k, sigma_tm_19p0[k]"
   ]
  },
  {
   "cell_type": "code",
   "execution_count": null,
   "metadata": {
    "collapsed": true
   },
   "outputs": [],
   "source": []
  }
 ],
 "metadata": {
  "kernelspec": {
   "display_name": "Python 2",
   "language": "python",
   "name": "python2"
  },
  "language_info": {
   "codemirror_mode": {
    "name": "ipython",
    "version": 2
   },
   "file_extension": ".py",
   "mimetype": "text/x-python",
   "name": "python",
   "nbconvert_exporter": "python",
   "pygments_lexer": "ipython2",
   "version": "2.7.12"
  }
 },
 "nbformat": 4,
 "nbformat_minor": 0
}
