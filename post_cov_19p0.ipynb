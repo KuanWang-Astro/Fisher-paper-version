{
 "cells": [
  {
   "cell_type": "code",
   "execution_count": 1,
   "metadata": {
    "collapsed": true
   },
   "outputs": [],
   "source": [
    "import numpy as np\n",
    "import matplotlib.pyplot as plt\n",
    "%matplotlib inline\n",
    "%config InlineBackend.figure_format='retina'\n",
    "\n",
    "import collections\n",
    "import copy\n",
    "import sys\n",
    "sys.stdout.flush()\n",
    "\n",
    "from processing_functions import *\n",
    "\n",
    "from matplotlib import rcParams\n",
    "rcParams['font.family'] = 'serif'\n",
    "rcParams['mathtext.fontset'] = 'dejavuserif'\n",
    "rcParams['mathtext.rm'] = 'serif'\n",
    "rcParams['mathtext.it'] = 'serif:italic'\n",
    "rcParams['mathtext.bf'] = 'serif:bold'\n",
    "rcParams['axes.titlepad'] = 12"
   ]
  },
  {
   "cell_type": "code",
   "execution_count": 40,
   "metadata": {
    "collapsed": true
   },
   "outputs": [],
   "source": [
    "jkcov = np.load('Run_30_bins_for_all/jk_20p0.npz')['jkcov']"
   ]
  },
  {
   "cell_type": "code",
   "execution_count": 46,
   "metadata": {
    "collapsed": false
   },
   "outputs": [
    {
     "name": "stderr",
     "output_type": "stream",
     "text": [
      "/home/kuw8/anaconda2/lib/python2.7/site-packages/ipykernel/__main__.py:1: RuntimeWarning: divide by zero encountered in log10\n",
      "  if __name__ == '__main__':\n"
     ]
    },
    {
     "data": {
      "text/plain": [
       "array([-16.48730622, -16.41553086, -16.41553086, -16.36300686,\n",
       "       -16.36300686, -16.3253703 , -16.3253703 , -16.32439719,\n",
       "       -16.32439719, -16.08344396, -16.08344396, -16.03260949,\n",
       "       -16.03260949, -10.00251622, -10.00251622,  -9.88269865,\n",
       "        -9.88269865,  -9.87873546,  -9.87873546,  -9.70632295,\n",
       "        -9.70632295,  -9.51361586,  -9.51361586,  -9.3611577 ,\n",
       "        -9.3611577 ,  -9.11903602,  -9.11903602,  -9.09992986,\n",
       "        -9.09992986,  -9.03855281,  -9.03855281,  -8.92323638,\n",
       "        -8.92323638,  -8.91621583,  -8.91621583,  -8.90911751,\n",
       "        -8.90911751,  -8.90744832,  -8.90744832,  -8.90213514,\n",
       "        -8.90213514,  -8.88673926,  -8.88673926,  -8.8760715 ,\n",
       "        -8.8760715 ,  -8.8668966 ,  -8.8668966 ,  -8.86273243,\n",
       "        -8.86273243,  -8.83182376])"
      ]
     },
     "execution_count": 46,
     "metadata": {},
     "output_type": "execute_result"
    }
   ],
   "source": [
    "np.sort(np.log10(np.abs(jkcov))[np.isfinite(np.log10(np.abs(jkcov)))])[3650:3700]"
   ]
  },
  {
   "cell_type": "code",
   "execution_count": null,
   "metadata": {
    "collapsed": true
   },
   "outputs": [],
   "source": []
  }
 ],
 "metadata": {
  "kernelspec": {
   "display_name": "Python 2",
   "language": "python",
   "name": "python2"
  },
  "language_info": {
   "codemirror_mode": {
    "name": "ipython",
    "version": 2
   },
   "file_extension": ".py",
   "mimetype": "text/x-python",
   "name": "python",
   "nbconvert_exporter": "python",
   "pygments_lexer": "ipython2",
   "version": "2.7.12"
  }
 },
 "nbformat": 4,
 "nbformat_minor": 0
}
