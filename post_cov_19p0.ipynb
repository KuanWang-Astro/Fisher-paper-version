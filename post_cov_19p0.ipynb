{
 "cells": [
  {
   "cell_type": "code",
   "execution_count": 1,
   "metadata": {
    "collapsed": true
   },
   "outputs": [],
   "source": [
    "import numpy as np\n",
    "import matplotlib.pyplot as plt\n",
    "%matplotlib inline\n",
    "%config InlineBackend.figure_format='retina'\n",
    "\n",
    "import collections\n",
    "import copy\n",
    "import sys\n",
    "sys.stdout.flush()\n",
    "\n",
    "from processing_functions import *\n",
    "\n",
    "from matplotlib import rcParams\n",
    "rcParams['font.family'] = 'serif'\n",
    "rcParams['mathtext.fontset'] = 'dejavuserif'\n",
    "rcParams['mathtext.rm'] = 'serif'\n",
    "rcParams['mathtext.it'] = 'serif:italic'\n",
    "rcParams['mathtext.bf'] = 'serif:bold'\n",
    "rcParams['axes.titlepad'] = 12"
   ]
  },
  {
   "cell_type": "markdown",
   "metadata": {},
   "source": [
    "### Calculate inverse covariance matrices by combination."
   ]
  },
  {
   "cell_type": "code",
   "execution_count": 14,
   "metadata": {
    "collapsed": true
   },
   "outputs": [],
   "source": [
    "jkcov = np.load('Run_30_bins_for_all/jk_19p0.npz')['jkcov']\n",
    "fidreal = np.load('Run_30_bins_for_all/fidreal_19p0.npz')['func']\n",
    "fidrandom = np.load('Run_30_bins_for_all/fidrandom_19p0.npz')\n",
    "\n",
    "covtot = calc_covariance(jkcov,fidreal,fidrandom)\n",
    "cov_cut = apply_to_dict(cov_clean,cut_by_func_2D(covtot))\n",
    "nzidx_cut = apply_to_dict(cov_clean,cut_by_func_2D(covtot),return_idx=1)\n",
    "invcov_cut = apply_to_dict(inv_cov,cov_cut,rcond=1e-4)"
   ]
  },
  {
   "cell_type": "markdown",
   "metadata": {},
   "source": [
    "### Load perturbed datasets, use one for smoothing test, find derivatives for all."
   ]
  },
  {
   "cell_type": "code",
   "execution_count": 8,
   "metadata": {
    "collapsed": false
   },
   "outputs": [],
   "source": [
    "pertfunc_dict, pertparam_dict = load_pert('-19.0')"
   ]
  },
  {
   "cell_type": "code",
   "execution_count": 9,
   "metadata": {
    "collapsed": false
   },
   "outputs": [
    {
     "data": {
      "text/plain": [
       "{'06837': array([[  1.69265280e-02,   3.88077706e+02,   3.28853614e+02, ...,\n",
       "           4.28571429e-01,   4.66666667e-01,   5.20833333e-01],\n",
       "        [  1.69536640e-02,   3.32293658e+02,   2.73717579e+02, ...,\n",
       "           4.10785732e-01,   4.44444444e-01,   5.00000000e-01],\n",
       "        [  1.70884480e-02,   2.97731344e+02,   2.43528277e+02, ...,\n",
       "           4.00000000e-01,   4.32432432e-01,   4.84848485e-01],\n",
       "        ..., \n",
       "        [  1.69475840e-02,   4.62203861e+02,   3.95157168e+02, ...,\n",
       "           4.41860465e-01,   4.88350961e-01,   5.50000000e-01],\n",
       "        [  1.69475840e-02,   4.27100479e+02,   3.66546023e+02, ...,\n",
       "           4.36170213e-01,   4.78260870e-01,   5.37735849e-01],\n",
       "        [  1.69475840e-02,   4.74923744e+02,   4.06468551e+02, ...,\n",
       "           4.44444444e-01,   4.90566038e-01,   5.55555556e-01]]),\n",
       " '13716': array([[  1.70122880e-02,   4.11247795e+02,   3.52325697e+02, ...,\n",
       "           4.33333333e-01,   4.72222222e-01,   5.27027027e-01],\n",
       "        [  1.70432640e-02,   4.28285406e+02,   3.70948004e+02, ...,\n",
       "           4.41860465e-01,   4.82993197e-01,   5.40762277e-01],\n",
       "        [  1.70220160e-02,   4.16930774e+02,   3.53919887e+02, ...,\n",
       "           4.35897436e-01,   4.74137931e-01,   5.32710280e-01],\n",
       "        ..., \n",
       "        [  1.70244480e-02,   4.19373434e+02,   3.60979503e+02, ...,\n",
       "           4.39252336e-01,   4.80000000e-01,   5.41666667e-01],\n",
       "        [  1.70244480e-02,   4.37632345e+02,   3.71432628e+02, ...,\n",
       "           4.37810945e-01,   4.78527607e-01,   5.39130435e-01],\n",
       "        [  1.70244480e-02,   4.31978717e+02,   3.66312730e+02, ...,\n",
       "           4.39560440e-01,   4.81818182e-01,   5.45454545e-01]]),\n",
       " '25592': array([[  1.73774080e-02,   5.98513313e+02,   5.20163475e+02, ...,\n",
       "           4.83870968e-01,   5.29411765e-01,   6.00000000e-01],\n",
       "        [  1.73252480e-02,   5.65635750e+02,   4.91066152e+02, ...,\n",
       "           4.76635514e-01,   5.23255814e-01,   5.93103448e-01],\n",
       "        [  1.71523840e-02,   4.81886673e+02,   4.20604331e+02, ...,\n",
       "           4.56140351e-01,   5.00000000e-01,   5.63883972e-01],\n",
       "        ..., \n",
       "        [  1.70330880e-02,   5.36884655e+02,   4.68520447e+02, ...,\n",
       "           4.70588235e-01,   5.22310421e-01,   6.00000000e-01],\n",
       "        [  1.70330880e-02,   4.69859137e+02,   4.08325793e+02, ...,\n",
       "           4.53125000e-01,   5.00000000e-01,   5.68627451e-01],\n",
       "        [  1.70330880e-02,   6.85689373e+02,   6.03595160e+02, ...,\n",
       "           4.93827160e-01,   5.46666667e-01,   6.22771676e-01]]),\n",
       " '26321': array([[  1.70457600e-02,   3.21779995e+02,   2.64812497e+02, ...,\n",
       "           4.06250000e-01,   4.40000000e-01,   5.00000000e-01],\n",
       "        [  1.72655360e-02,   5.45678685e+02,   4.86796211e+02, ...,\n",
       "           4.70588235e-01,   5.15151515e-01,   5.84615385e-01],\n",
       "        [  1.71461760e-02,   4.91706780e+02,   4.29618611e+02, ...,\n",
       "           4.54545455e-01,   5.00000000e-01,   5.61290323e-01],\n",
       "        ..., \n",
       "        [  1.70190720e-02,   4.60440314e+02,   3.93380620e+02, ...,\n",
       "           4.40000000e-01,   4.83870968e-01,   5.46096167e-01],\n",
       "        [  1.70190720e-02,   5.97540835e+02,   5.21614192e+02, ...,\n",
       "           4.70588235e-01,   5.18867925e-01,   5.95505618e-01],\n",
       "        [  1.70190720e-02,   5.00589119e+02,   4.40459108e+02, ...,\n",
       "           4.62500000e-01,   5.09090909e-01,   5.84070796e-01]])}"
      ]
     },
     "execution_count": 9,
     "metadata": {},
     "output_type": "execute_result"
    }
   ],
   "source": [
    "pertfunc_dict"
   ]
  },
  {
   "cell_type": "code",
   "execution_count": null,
   "metadata": {
    "collapsed": true
   },
   "outputs": [],
   "source": []
  }
 ],
 "metadata": {
  "kernelspec": {
   "display_name": "Python 2",
   "language": "python",
   "name": "python2"
  },
  "language_info": {
   "codemirror_mode": {
    "name": "ipython",
    "version": 2
   },
   "file_extension": ".py",
   "mimetype": "text/x-python",
   "name": "python",
   "nbconvert_exporter": "python",
   "pygments_lexer": "ipython2",
   "version": "2.7.12"
  }
 },
 "nbformat": 4,
 "nbformat_minor": 0
}
