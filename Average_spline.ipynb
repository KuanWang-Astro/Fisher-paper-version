{
 "cells": [
  {
   "cell_type": "code",
   "execution_count": 1,
   "metadata": {
    "collapsed": true
   },
   "outputs": [],
   "source": [
    "import numpy as np\n",
    "import matplotlib.pyplot as plt\n",
    "from matplotlib import cm\n",
    "%matplotlib inline\n",
    "%config InlineBackend.figure_format='retina'\n",
    "import collections\n",
    "from matplotlib import rcParams\n",
    "rcParams['font.family'] = 'serif'\n",
    "rcParams['mathtext.fontset'] = 'dejavuserif'\n",
    "rcParams['mathtext.rm'] = 'serif'\n",
    "rcParams['mathtext.it'] = 'serif:italic'\n",
    "rcParams['mathtext.bf'] = 'serif:bold'\n",
    "rcParams['axes.titlepad'] = 12"
   ]
  },
  {
   "cell_type": "code",
   "execution_count": 2,
   "metadata": {
    "collapsed": false
   },
   "outputs": [],
   "source": [
    "from processing_functions import *"
   ]
  },
  {
   "cell_type": "code",
   "execution_count": 3,
   "metadata": {
    "collapsed": true
   },
   "outputs": [],
   "source": [
    "from scipy.interpolate import interp1d\n",
    "from scipy.interpolate import UnivariateSpline"
   ]
  },
  {
   "cell_type": "code",
   "execution_count": 39,
   "metadata": {
    "collapsed": true
   },
   "outputs": [],
   "source": [
    "def plot_fi_pj(i,j,threshold):\n",
    "    pertfunc_dict,pertparam_dict = load_pert(threshold)\n",
    "    for seed in seed_list[threshold]:\n",
    "        plt.plot(pertparam_dict[seed][i*200:i*200+200,i],pertfunc_dict[seed][i*200:i*200+200,j],'.',markersize=1,alpha=0.4)"
   ]
  },
  {
   "cell_type": "code",
   "execution_count": 40,
   "metadata": {
    "collapsed": true
   },
   "outputs": [],
   "source": [
    "def average_f_p(threshold,i,j,pi_range):\n",
    "    pertfunc_dict,pertparam_dict = load_pert(threshold)\n",
    "    mean_f = []\n",
    "    for seed in seed_list[threshold]:\n",
    "        x = pertparam_dict[seed][200*i:200*i+200,i]\n",
    "        y = pertfunc_dict[seed][200*i:200*i+200,j]\n",
    "        f = interp1d(x, y)\n",
    "        mean_f.append(f(pi_range))\n",
    "    mean_f = mean_of_list(mean_f)\n",
    "    #median_f = np.median(np.array(mean_f),axis=0)\n",
    "    return mean_f"
   ]
  },
  {
   "cell_type": "code",
   "execution_count": 6,
   "metadata": {
    "collapsed": true
   },
   "outputs": [],
   "source": [
    "def average_f_spline(threshold,i,j,pi_range):\n",
    "    pertfunc_dict,pertparam_dict = load_pert(threshold)\n",
    "    mean_f = []\n",
    "    for seed in seed_list[threshold]:\n",
    "        x = pertparam_dict[seed][200*i:200*i+200,i]\n",
    "        y = pertfunc_dict[seed][200*i:200*i+200,j]\n",
    "        f = UnivariateSpline(x, y)\n",
    "        f.set_smoothing_factor(2000)\n",
    "        mean_f.append(f(pi_range))\n",
    "    mean_f = mean_of_list(mean_f)\n",
    "    #median_f = np.median(np.array(mean_f),axis=0)\n",
    "    return mean_f"
   ]
  },
  {
   "cell_type": "code",
   "execution_count": 7,
   "metadata": {
    "collapsed": true
   },
   "outputs": [],
   "source": [
    "param_list = [r'$\\alpha$', r'$\\log{M_\\mathrm{1}}$', r'$\\sigma_{\\log{M}}$', r'$\\log{M_\\mathrm{0}}$', r'$\\log{M_{\\rm{min}}}$',\\\n",
    "              r'$A_{\\rm{cen}}$', r'$A_{\\rm{sat}}$']\n",
    "\n",
    "r_wp = np.logspace(-1,1.5,30)\n",
    "r_wp = (r_wp[1:]+r_wp[:-1])/2.\n",
    "\n",
    "r_ds = np.logspace(-1,1.5,31)\n",
    "r_ds = np.sqrt(0.5*(r_ds[1:]**2 + r_ds[:-1]**2))\n",
    "\n",
    "r_vpf = np.logspace(0,1,30)\n",
    "\n",
    "cic_bin = np.concatenate([np.arange(10),np.around(np.logspace(1,np.log10(150),30-10)).astype(np.int)])\n",
    "cia_bin = np.concatenate([np.arange(10),np.around(np.logspace(1,np.log10(200),30-10)).astype(np.int)])\n",
    "\n",
    "q_ratio = np.linspace(0,1,30+2)[1:-1]*100.\n",
    "\n",
    "obs_list = [r'$n_{\\mathrm{gal}}$',]+\\\n",
    "            list([r'$w_{\\mathrm{p}}(r_{\\mathrm{p}}= %.2f h^{-1}\\mathrm{Mpc})$'%r for r in r_wp])+\\\n",
    "            list([r'$\\Delta \\Sigma(r_{\\mathrm{p}}=%.2f h^{-1}\\mathrm{Mpc})$'%r for r in r_ds])+\\\n",
    "            list([r'$\\mathrm{VPF}(r=%.2f h^{-1}\\mathrm{Mpc})$'%r for r in r_vpf])+\\\n",
    "            list([r'$P(N_{\\mathrm{CIC}}=%d)$'%i for i in range(10)])+\\\n",
    "            list([r'$P(%d\\leq N_{\\mathrm{CIC}}<%d)$'%(cic_bin[i],cic_bin[i+1]) for i in range(10,29)])+\\\n",
    "            [r'$P(N_{\\mathrm{CIC}} \\geq %d)$'%cic_bin[-1],]+\\\n",
    "            list([r'$P(N_{\\mathrm{CIA}}=%d)$'%i for i in range(10)])+\\\n",
    "            list([r'$P(%d\\leq N_{\\mathrm{CIA}}<%d)$'%(cia_bin[i],cia_bin[i+1]) for i in range(10,29)])+\\\n",
    "            [r'$P(N_{\\mathrm{CIA}} \\geq %d)$'%cia_bin[-1],]+\\\n",
    "            list([r'$Q_{%.2f}(N_2/N_5)$'%q_ratio[i] for i in range(30)])"
   ]
  },
  {
   "cell_type": "code",
   "execution_count": 61,
   "metadata": {
    "collapsed": false
   },
   "outputs": [],
   "source": [
    "def plot_save(i,j,threshold,save=1):\n",
    "    fig = plt.figure(figsize=(13,10))\n",
    "    plt.xlabel(param_list[i],fontsize=30)\n",
    "    plt.ylabel(obs_list[j],fontsize=30)\n",
    "    plot_fi_pj(i,j,threshold)\n",
    "    x_new = np.linspace(p0_list[threshold][i]-0.7*oneside_dict[threshold][i],p0_list[threshold][i]+0.7*oneside_dict[threshold][i],201)\n",
    "    plt.plot(x_new,average_f_spline(threshold,i,j,x_new),'r:',label='averaged spline fit',lw=2,alpha=1)\n",
    "    plt.plot(x_new,average_f_p(threshold,i,j,x_new),'b',label='averaged interploation',lw=2,alpha=1)\n",
    "    plt.legend(frameon=False,fontsize=30)\n",
    "    plt.xticks(fontsize=20)\n",
    "    plt.yticks(fontsize=20)\n",
    "    if save:\n",
    "        fig.savefig('Stack_plots/'+threshold+'_p'+str(i)+'_f'+str(j)+'.png')\n",
    "        plt.close(fig)"
   ]
  },
  {
   "cell_type": "code",
   "execution_count": 62,
   "metadata": {
    "collapsed": false
   },
   "outputs": [],
   "source": [
    "for i in range(7):\n",
    "    for j in range(180):\n",
    "        plot_save(i,j,'-19.0')"
   ]
  },
  {
   "cell_type": "code",
   "execution_count": 63,
   "metadata": {
    "collapsed": true
   },
   "outputs": [],
   "source": [
    "for i in range(7):\n",
    "    for j in range(180):\n",
    "        plot_save(i,j,'-21.0')"
   ]
  },
  {
   "cell_type": "code",
   "execution_count": null,
   "metadata": {
    "collapsed": true
   },
   "outputs": [],
   "source": [
    "for i in range(7):\n",
    "    for j in range(180):\n",
    "        plot_save(i,j,'-20.0')"
   ]
  },
  {
   "cell_type": "code",
   "execution_count": null,
   "metadata": {
    "collapsed": true
   },
   "outputs": [],
   "source": [
    "for i in range(7):\n",
    "    for j in range(180):\n",
    "        plot_save(i,j,'-20.5')"
   ]
  },
  {
   "cell_type": "code",
   "execution_count": 66,
   "metadata": {
    "collapsed": true
   },
   "outputs": [],
   "source": [
    "for i in range(7):\n",
    "    for j in range(180):\n",
    "        plot_save(i,j,'-19.5')"
   ]
  },
  {
   "cell_type": "code",
   "execution_count": null,
   "metadata": {
    "collapsed": true
   },
   "outputs": [],
   "source": []
  }
 ],
 "metadata": {
  "kernelspec": {
   "display_name": "Python 2",
   "language": "python",
   "name": "python2"
  },
  "language_info": {
   "codemirror_mode": {
    "name": "ipython",
    "version": 2
   },
   "file_extension": ".py",
   "mimetype": "text/x-python",
   "name": "python",
   "nbconvert_exporter": "python",
   "pygments_lexer": "ipython2",
   "version": "2.7.12"
  }
 },
 "nbformat": 4,
 "nbformat_minor": 0
}
