{
 "cells": [
  {
   "cell_type": "code",
   "execution_count": 1,
   "metadata": {
    "collapsed": false
   },
   "outputs": [
    {
     "name": "stdout",
     "output_type": "stream",
     "text": [
      "Populating the interactive namespace from numpy and matplotlib\n"
     ]
    }
   ],
   "source": [
    "%pylab inline\n",
    "from HOD_models_fix import decorated_hod_model\n",
    "from halotools.sim_manager import FakeSim\n",
    "import sys\n",
    "sys.stdout.flush()"
   ]
  },
  {
   "cell_type": "code",
   "execution_count": 26,
   "metadata": {
    "collapsed": true
   },
   "outputs": [],
   "source": [
    "from HOD_models_fix import decorated_hod_model\n",
    "\n",
    "from halotools.sim_manager import CachedHaloCatalog"
   ]
  },
  {
   "cell_type": "code",
   "execution_count": 27,
   "metadata": {
    "collapsed": true
   },
   "outputs": [],
   "source": [
    "halocat = CachedHaloCatalog(simname='bolplanck', version_name='halotools_v0p4', redshift=0, halo_finder='rockstar')"
   ]
  },
  {
   "cell_type": "code",
   "execution_count": 28,
   "metadata": {
    "collapsed": true
   },
   "outputs": [],
   "source": [
    "dHOD = decorated_hod_model()"
   ]
  },
  {
   "cell_type": "code",
   "execution_count": 29,
   "metadata": {
    "collapsed": true
   },
   "outputs": [],
   "source": [
    "param_names = ('alpha','logM1','sigma_logM','logM0','logMmin','mean_occupation_centrals_assembias_param1','mean_occupation_satellites_assembias_param1')"
   ]
  },
  {
   "cell_type": "code",
   "execution_count": 30,
   "metadata": {
    "collapsed": true
   },
   "outputs": [],
   "source": [
    "p19p0 = np.array((1.04029, 12.80315, 0.51193, 10.25010, 11.64354, 0., 0.))\n",
    "p19p5 = np.array((1.11553, 13.06008, 0.44578, 11.29134, 11.75068, 0., 0.))\n",
    "p20p0 = np.array((1.14385, 13.28584, 0.34846, 11.30750, 11.97186, 0., 0.))\n",
    "p20p5 = np.array((1.19652, 13.59169, 0.18536, 11.20134, 12.25470, 0., 0.))\n",
    "p21p0 = np.array((1.33738, 13.98811, 0.55950, 11.95797, 12.82356, 0., 0.))"
   ]
  },
  {
   "cell_type": "code",
   "execution_count": 31,
   "metadata": {
    "collapsed": true
   },
   "outputs": [],
   "source": [
    "param = np.array((1.04029, 12.80315, 0.51193, 10.25010, 11.64354, 0., 0.))\n",
    "dHOD.param_dict.update(dict(zip(param_names, param)))"
   ]
  },
  {
   "cell_type": "code",
   "execution_count": 32,
   "metadata": {
    "collapsed": true
   },
   "outputs": [],
   "source": [
    "try:\n",
    "    dHOD.mock.populate()\n",
    "except:    \n",
    "    dHOD.populate_mock(halocat)"
   ]
  },
  {
   "cell_type": "code",
   "execution_count": null,
   "metadata": {
    "collapsed": true
   },
   "outputs": [],
   "source": []
  },
  {
   "cell_type": "code",
   "execution_count": null,
   "metadata": {
    "collapsed": true
   },
   "outputs": [],
   "source": []
  },
  {
   "cell_type": "code",
   "execution_count": 2,
   "metadata": {
    "collapsed": false
   },
   "outputs": [
    {
     "data": {
      "text/plain": [
       "{'alpha': 1.06,\n",
       " 'logM0': 11.38,\n",
       " 'logM1': 13.31,\n",
       " 'logMmin': 12.02,\n",
       " 'mean_occupation_centrals_assembias_param1': 0,\n",
       " 'mean_occupation_satellites_assembias_param1': 0,\n",
       " 'sigma_logM': 0.26}"
      ]
     },
     "execution_count": 2,
     "metadata": {},
     "output_type": "execute_result"
    }
   ],
   "source": [
    "halocat = FakeSim(num_massbins=6,num_halos_per_massbin=1)\n",
    "model = decorated_hod_model()\n",
    "model.param_dict['mean_occupation_centrals_assembias_param1']=0\n",
    "model.param_dict['mean_occupation_satellites_assembias_param1']=0\n",
    "model.populate_mock(halocat)\n",
    "model.param_dict"
   ]
  },
  {
   "cell_type": "code",
   "execution_count": 3,
   "metadata": {
    "collapsed": false
   },
   "outputs": [
    {
     "data": {
      "text/plain": [
       "2511886431509.582"
      ]
     },
     "execution_count": 3,
     "metadata": {},
     "output_type": "execute_result"
    }
   ],
   "source": [
    "halocat.halo_table['halo_mvir'][2]"
   ]
  },
  {
   "cell_type": "code",
   "execution_count": 4,
   "metadata": {
    "collapsed": false
   },
   "outputs": [
    {
     "data": {
      "text/html": [
       "&lt;Table length=6&gt;\n",
       "<table id=\"table140154255716112\" class=\"table-striped table-bordered table-condensed\">\n",
       "<thead><tr><th>halo_upid</th><th>halo_rvir</th><th>halo_vpeak</th><th>halo_mpeak</th><th>halo_mass_accretion_rate</th><th>halo_mvir</th><th>halo_hostid</th><th>halo_spin</th><th>halo_y</th><th>halo_x</th><th>halo_z</th><th>halo_m200b</th><th>halo_mvir_host_halo</th><th>halo_zhalf</th><th>halo_vmax</th><th>halo_nfw_conc</th><th>halo_id</th><th>halo_vx</th><th>halo_vy</th><th>halo_vz</th><th>halo_rs</th><th>halo_m180b</th></tr></thead>\n",
       "<thead><tr><th>int64</th><th>float64</th><th>float64</th><th>float64</th><th>float64</th><th>float64</th><th>int64</th><th>float64</th><th>float64</th><th>float64</th><th>float64</th><th>float64</th><th>float64</th><th>float64</th><th>float64</th><th>float64</th><th>int64</th><th>float64</th><th>float64</th><th>float64</th><th>float64</th><th>float64</th></tr></thead>\n",
       "<tr><td>-1</td><td>0.0215443469003</td><td>38.3118684956</td><td>10000000000.0</td><td>-0.156710300039</td><td>10000000000.0</td><td>100011</td><td>0.11505456639</td><td>1.28238726611</td><td>111.43959021</td><td>227.538268945</td><td>10000000000.0</td><td>10000000000.0</td><td>2.5442112586</td><td>38.3118684956</td><td>11.3269923441</td><td>100011</td><td>365.017120607</td><td>-95.5947569246</td><td>226.987991968</td><td>0.00190203597265</td><td>10000000000.0</td></tr>\n",
       "<tr><td>-1</td><td>0.0541169526546</td><td>96.2350626398</td><td>158489319246.0</td><td>8.27547163653</td><td>158489319246.0</td><td>100006</td><td>0.609066539279</td><td>135.80062882</td><td>167.43116293</td><td>131.313917777</td><td>158489319246.0</td><td>158489319246.0</td><td>0.568849366512</td><td>96.2350626398</td><td>9.95278433512</td><td>100006</td><td>172.177279476</td><td>493.572492394</td><td>-100.803114096</td><td>0.00543736816076</td><td>158489319246.0</td></tr>\n",
       "<tr><td>-1</td><td>0.135935639088</td><td>241.73154808</td><td>2.51188643151e+12</td><td>8.33833062519</td><td>2.51188643151e+12</td><td>100007</td><td>0.133390964186</td><td>118.899091752</td><td>20.6250124243</td><td>26.0047374637</td><td>2.51188643151e+12</td><td>2.51188643151e+12</td><td>8.66648640899</td><td>241.73154808</td><td>4.31915206867</td><td>100007</td><td>128.785795882</td><td>235.727081507</td><td>170.145164702</td><td>0.0314727606083</td><td>2.51188643151e+12</td></tr>\n",
       "<tr><td>-1</td><td>0.341454887383</td><td>607.202195691</td><td>3.98107170553e+13</td><td>9.68611600579</td><td>3.98107170553e+13</td><td>100008</td><td>0.240589619965</td><td>159.093419393</td><td>224.274644995</td><td>45.2286488145</td><td>3.98107170553e+13</td><td>3.98107170553e+13</td><td>2.21028995884</td><td>607.202195691</td><td>12.0712312591</td><td>100008</td><td>-224.441223351</td><td>-54.9385875103</td><td>204.715607881</td><td>0.0282866660455</td><td>3.98107170553e+13</td></tr>\n",
       "<tr><td>-1</td><td>0.857695898591</td><td>1525.22295654</td><td>6.3095734448e+14</td><td>3.23914605835</td><td>6.3095734448e+14</td><td>100009</td><td>0.327139055811</td><td>244.551033521</td><td>74.5008751722</td><td>238.260055247</td><td>6.3095734448e+14</td><td>6.3095734448e+14</td><td>4.04989448047</td><td>1525.22295654</td><td>8.34445020274</td><td>100009</td><td>396.747269741</td><td>60.6631694437</td><td>109.559871259</td><td>0.102786388288</td><td>6.3095734448e+14</td></tr>\n",
       "<tr><td>-1</td><td>2.15443469003</td><td>3831.18684956</td><td>1e+16</td><td>9.4993693762</td><td>1e+16</td><td>100003</td><td>0.859137490949</td><td>227.165689458</td><td>65.5762056491</td><td>102.988245847</td><td>1e+16</td><td>1e+16</td><td>3.16096471018</td><td>3831.18684956</td><td>12.8225183049</td><td>100003</td><td>-293.108628657</td><td>-88.7445109134</td><td>40.0344641817</td><td>0.168019622885</td><td>1e+16</td></tr>\n",
       "</table>"
      ],
      "text/plain": [
       "<Table length=6>\n",
       "halo_upid    halo_rvir      halo_vpeak  ...     halo_rs          halo_m180b   \n",
       "  int64       float64        float64    ...     float64           float64     \n",
       "--------- --------------- ------------- ... ---------------- -----------------\n",
       "       -1 0.0215443469003 38.3118684956 ... 0.00190203597265     10000000000.0\n",
       "       -1 0.0541169526546 96.2350626398 ... 0.00543736816076    158489319246.0\n",
       "       -1  0.135935639088  241.73154808 ...  0.0314727606083 2.51188643151e+12\n",
       "       -1  0.341454887383 607.202195691 ...  0.0282866660455 3.98107170553e+13\n",
       "       -1  0.857695898591 1525.22295654 ...   0.102786388288  6.3095734448e+14\n",
       "       -1   2.15443469003 3831.18684956 ...   0.168019622885             1e+16"
      ]
     },
     "execution_count": 4,
     "metadata": {},
     "output_type": "execute_result"
    }
   ],
   "source": [
    "halocat.halo_table"
   ]
  },
  {
   "cell_type": "code",
   "execution_count": 5,
   "metadata": {
    "collapsed": false,
    "scrolled": true
   },
   "outputs": [
    {
     "name": "stdout",
     "output_type": "stream",
     "text": [
      "0\n",
      "1000\n",
      "2000\n",
      "3000\n",
      "4000\n",
      "5000\n",
      "6000\n",
      "7000\n",
      "8000\n",
      "9000\n"
     ]
    }
   ],
   "source": [
    "ncen = []\n",
    "nsat = []\n",
    "for i in range(10000):\n",
    "    if i%1000==0:\n",
    "        print i\n",
    "    model.mock.populate()\n",
    "    mask = np.logical_and(model.mock.galaxy_table['halo_hostid']==100007,model.mock.galaxy_table['gal_type']=='centrals')\n",
    "    if any(mask):\n",
    "        ncen.append(1)\n",
    "        nsat.append(np.array(model.mock.galaxy_table[mask]['halo_num_satellites'])[0])\n",
    "    else:\n",
    "        ncen.append(0)\n",
    "        nsat.append(0)"
   ]
  },
  {
   "cell_type": "code",
   "execution_count": 6,
   "metadata": {
    "collapsed": true
   },
   "outputs": [],
   "source": [
    "ncen = np.array(ncen)\n",
    "nsat = np.array(nsat)"
   ]
  },
  {
   "cell_type": "code",
   "execution_count": 9,
   "metadata": {
    "collapsed": false
   },
   "outputs": [
    {
     "name": "stdout",
     "output_type": "stream",
     "text": [
      "192\n",
      "0\n",
      "0\n",
      "0\n",
      "8865\n",
      "893\n",
      "49\n",
      "1\n",
      "0.9808 0.0994 0.0994\n"
     ]
    }
   ],
   "source": [
    "print np.sum(np.logical_and(ncen==0,nsat==0))\n",
    "print np.sum(np.logical_and(ncen==0,nsat==1))\n",
    "print np.sum(np.logical_and(ncen==0,nsat==2))\n",
    "print np.sum(np.logical_and(ncen==0,nsat==3))\n",
    "print np.sum(np.logical_and(ncen==1,nsat==0))\n",
    "print np.sum(np.logical_and(ncen==1,nsat==1))\n",
    "print np.sum(np.logical_and(ncen==1,nsat==2))\n",
    "print np.sum(np.logical_and(ncen==1,nsat==3))\n",
    "print np.mean(ncen),np.mean(nsat),np.mean(ncen*nsat)"
   ]
  },
  {
   "cell_type": "code",
   "execution_count": 6,
   "metadata": {
    "collapsed": false
   },
   "outputs": [],
   "source": [
    "meancen = np.array(model.mean_occupation_centrals(table=halocat.halo_table))\n",
    "meansat = np.array(model.mean_occupation_satellites(table=halocat.halo_table,))"
   ]
  },
  {
   "cell_type": "code",
   "execution_count": 7,
   "metadata": {
    "collapsed": false
   },
   "outputs": [
    {
     "name": "stdout",
     "output_type": "stream",
     "text": [
      "0.980629507664\n",
      "0.0975424057816\n",
      "0.095652961358\n"
     ]
    }
   ],
   "source": [
    "print meancen[2]\n",
    "print meansat[2]  #Nsat without Ncen factor.\n",
    "print meancen[2]*meansat[2]"
   ]
  },
  {
   "cell_type": "code",
   "execution_count": 10,
   "metadata": {
    "collapsed": true
   },
   "outputs": [],
   "source": [
    "from halotools.sim_manager import CachedHaloCatalog\n",
    "halocat_bp = CachedHaloCatalog(simname='bolplanck', version_name='halotools_v0p4', redshift=0, \\\n",
    "                                halo_finder='rockstar')"
   ]
  },
  {
   "cell_type": "code",
   "execution_count": 11,
   "metadata": {
    "collapsed": true
   },
   "outputs": [],
   "source": [
    "model.populate_mock(halocat_bp)"
   ]
  },
  {
   "cell_type": "code",
   "execution_count": 12,
   "metadata": {
    "collapsed": false
   },
   "outputs": [
    {
     "data": {
      "text/html": [
       "&lt;Table length=88714&gt;\n",
       "<table id=\"table140151103778192\" class=\"table-striped table-bordered table-condensed\">\n",
       "<thead><tr><th>halo_upid</th><th>halo_hostid</th><th>halo_nfw_conc</th><th>halo_y</th><th>halo_x</th><th>halo_id</th><th>halo_vx</th><th>halo_vy</th><th>halo_vz</th><th>conc_NFWmodel</th><th>halo_rvir</th><th>halo_z</th><th>halo_mvir</th><th>halo_num_centrals</th><th>halo_num_satellites</th><th>gal_type</th><th>vx</th><th>host_centric_distance</th><th>vy</th><th>y</th><th>x</th><th>vz</th><th>z</th></tr></thead>\n",
       "<thead><tr><th>int64</th><th>int64</th><th>float32</th><th>float32</th><th>float32</th><th>int64</th><th>float32</th><th>float32</th><th>float32</th><th>float32</th><th>float32</th><th>float32</th><th>float32</th><th>int32</th><th>int32</th><th>object</th><th>float32</th><th>float64</th><th>float32</th><th>float32</th><th>float32</th><th>float32</th><th>float32</th></tr></thead>\n",
       "<tr><td>-1</td><td>2811042639</td><td>8.62937</td><td>43.1408</td><td>36.1798</td><td>2811042639</td><td>16.1</td><td>8.51</td><td>-78.88</td><td>8.62937</td><td>1.19045</td><td>17.9634</td><td>2.008e+14</td><td>1</td><td>11</td><td>centrals</td><td>16.1</td><td>0.0</td><td>8.51</td><td>43.1408</td><td>36.1798</td><td>-78.88</td><td>17.9634</td></tr>\n",
       "<tr><td>-1</td><td>2811055606</td><td>6.17233</td><td>49.5442</td><td>45.3664</td><td>2811055606</td><td>2.46</td><td>264.77</td><td>-128.08</td><td>6.17233</td><td>1.14685</td><td>40.0159</td><td>1.796e+14</td><td>1</td><td>16</td><td>centrals</td><td>2.46</td><td>0.0</td><td>264.77</td><td>49.5442</td><td>45.3664</td><td>-128.08</td><td>40.0159</td></tr>\n",
       "<tr><td>-1</td><td>2809250167</td><td>8.62862</td><td>13.8826</td><td>22.0232</td><td>2809250167</td><td>18.49</td><td>124.89</td><td>-35.19</td><td>8.62862</td><td>1.02934</td><td>9.80153</td><td>1.298e+14</td><td>1</td><td>3</td><td>centrals</td><td>18.49</td><td>0.0</td><td>124.89</td><td>13.8826</td><td>22.0232</td><td>-35.19</td><td>9.80153</td></tr>\n",
       "<tr><td>-1</td><td>2809483946</td><td>7.20131</td><td>36.6788</td><td>12.2979</td><td>2809483946</td><td>-281.37</td><td>-115.39</td><td>-391.28</td><td>7.20131</td><td>0.952978</td><td>34.1809</td><td>1.03e+14</td><td>1</td><td>9</td><td>centrals</td><td>-281.37</td><td>0.0</td><td>-115.39</td><td>36.6788</td><td>12.2979</td><td>-391.28</td><td>34.1809</td></tr>\n",
       "<tr><td>-1</td><td>2809272603</td><td>6.69101</td><td>26.1288</td><td>10.6604</td><td>2809272603</td><td>-43.87</td><td>292.95</td><td>-171.47</td><td>6.69101</td><td>0.941893</td><td>22.5009</td><td>9.947e+13</td><td>1</td><td>5</td><td>centrals</td><td>-43.87</td><td>0.0</td><td>292.95</td><td>26.1288</td><td>10.6604</td><td>-171.47</td><td>22.5009</td></tr>\n",
       "<tr><td>-1</td><td>2809261554</td><td>9.26116</td><td>29.5494</td><td>1.93592</td><td>2809261554</td><td>281.14</td><td>229.38</td><td>224.59</td><td>9.26116</td><td>0.927672</td><td>18.1172</td><td>9.503e+13</td><td>1</td><td>7</td><td>centrals</td><td>281.14</td><td>0.0</td><td>229.38</td><td>29.5494</td><td>1.93592</td><td>224.59</td><td>18.1172</td></tr>\n",
       "<tr><td>-1</td><td>2809285813</td><td>5.74128</td><td>24.6632</td><td>14.8268</td><td>2809285813</td><td>-85.39</td><td>208.72</td><td>-470.92</td><td>5.74128</td><td>0.905182</td><td>38.8625</td><td>8.829e+13</td><td>1</td><td>2</td><td>centrals</td><td>-85.39</td><td>0.0</td><td>208.72</td><td>24.6632</td><td>14.8268</td><td>-470.92</td><td>38.8625</td></tr>\n",
       "<tr><td>-1</td><td>2809273410</td><td>9.21493</td><td>25.6495</td><td>15.1038</td><td>2809273410</td><td>-365.37</td><td>199.12</td><td>-194.93</td><td>9.21493</td><td>0.897055</td><td>23.6818</td><td>8.593e+13</td><td>1</td><td>0</td><td>centrals</td><td>-365.37</td><td>0.0</td><td>199.12</td><td>25.6495</td><td>15.1038</td><td>-194.93</td><td>23.6818</td></tr>\n",
       "<tr><td>-1</td><td>2809284998</td><td>7.29123</td><td>33.3391</td><td>10.4937</td><td>2809284998</td><td>-44.45</td><td>275.28</td><td>-407.85</td><td>7.29123</td><td>0.886089</td><td>33.392</td><td>8.282e+13</td><td>1</td><td>3</td><td>centrals</td><td>-44.45</td><td>0.0</td><td>275.28</td><td>33.3391</td><td>10.4937</td><td>-407.85</td><td>33.392</td></tr>\n",
       "<tr><td>-1</td><td>2810866534</td><td>5.95362</td><td>6.28848</td><td>46.2185</td><td>2810866534</td><td>-255.78</td><td>139.39</td><td>30.36</td><td>5.95362</td><td>0.885411</td><td>41.9007</td><td>8.263e+13</td><td>1</td><td>1</td><td>centrals</td><td>-255.78</td><td>0.0</td><td>139.39</td><td>6.28848</td><td>46.2185</td><td>30.36</td><td>41.9007</td></tr>\n",
       "<tr><td>...</td><td>...</td><td>...</td><td>...</td><td>...</td><td>...</td><td>...</td><td>...</td><td>...</td><td>...</td><td>...</td><td>...</td><td>...</td><td>...</td><td>...</td><td>...</td><td>...</td><td>...</td><td>...</td><td>...</td><td>...</td><td>...</td><td>...</td></tr>\n",
       "<tr><td>-1</td><td>2820156872</td><td>11.3508</td><td>220.39</td><td>208.814</td><td>2820156872</td><td>453.53</td><td>248.16</td><td>-181.01</td><td>11.3508</td><td>0.213179</td><td>228.553</td><td>1.153e+12</td><td>1</td><td>1</td><td>satellites</td><td>509.669</td><td>0.00838636161577</td><td>463.903</td><td>220.382</td><td>208.813</td><td>-105.639</td><td>228.552</td></tr>\n",
       "<tr><td>-1</td><td>2820342251</td><td>7.73405</td><td>225.135</td><td>202.763</td><td>2820342251</td><td>143.77</td><td>210.42</td><td>-226.34</td><td>7.73405</td><td>0.207288</td><td>203.094</td><td>1.06e+12</td><td>0</td><td>1</td><td>satellites</td><td>255.658</td><td>0.0950073314288</td><td>131.29</td><td>225.066</td><td>202.783</td><td>-316.98</td><td>203.032</td></tr>\n",
       "<tr><td>-1</td><td>2820352451</td><td>3.67788</td><td>245.399</td><td>218.883</td><td>2820352451</td><td>237.6</td><td>-125.76</td><td>-91.75</td><td>3.67788</td><td>0.185961</td><td>207.16</td><td>7.655e+11</td><td>1</td><td>1</td><td>satellites</td><td>317.026</td><td>0.140542868288</td><td>-35.942</td><td>245.525</td><td>218.849</td><td>-146.807</td><td>207.107</td></tr>\n",
       "<tr><td>-1</td><td>2821911644</td><td>12.2736</td><td>237.936</td><td>235.804</td><td>2821911644</td><td>85.86</td><td>-273.64</td><td>-190.96</td><td>12.2736</td><td>0.183159</td><td>225.08</td><td>7.314e+11</td><td>0</td><td>1</td><td>satellites</td><td>200.006</td><td>0.043761789797</td><td>-500.635</td><td>237.98</td><td>235.808</td><td>-379.303</td><td>225.082</td></tr>\n",
       "<tr><td>-1</td><td>2820342493</td><td>9.48775</td><td>240.781</td><td>218.427</td><td>2820342493</td><td>-183.35</td><td>160.81</td><td>340.54</td><td>9.48775</td><td>0.178569</td><td>200.754</td><td>6.778e+11</td><td>1</td><td>1</td><td>satellites</td><td>-88.6603</td><td>0.0538128817577</td><td>299.938</td><td>240.824</td><td>218.41</td><td>230.651</td><td>200.782</td></tr>\n",
       "<tr><td>-1</td><td>2821721821</td><td>17.4344</td><td>208.896</td><td>243.034</td><td>2821721821</td><td>-8.76</td><td>70.75</td><td>-149.33</td><td>17.4344</td><td>0.174675</td><td>232.915</td><td>6.344e+11</td><td>1</td><td>1</td><td>satellites</td><td>-129.9</td><td>0.0326318034744</td><td>102.828</td><td>208.865</td><td>243.035</td><td>-148.317</td><td>232.922</td></tr>\n",
       "<tr><td>-1</td><td>2820342200</td><td>9.10927</td><td>232.282</td><td>209.306</td><td>2820342200</td><td>106.3</td><td>328.35</td><td>-161.59</td><td>9.10927</td><td>0.166317</td><td>202.43</td><td>5.477e+11</td><td>0</td><td>1</td><td>satellites</td><td>123.716</td><td>0.0710467946001</td><td>335.137</td><td>232.268</td><td>209.367</td><td>-156.178</td><td>202.396</td></tr>\n",
       "<tr><td>-1</td><td>2820366570</td><td>5.36856</td><td>235.606</td><td>209.256</td><td>2820366570</td><td>594.16</td><td>17.8</td><td>242.32</td><td>5.36856</td><td>0.147238</td><td>247.731</td><td>3.8e+11</td><td>0</td><td>1</td><td>satellites</td><td>656.775</td><td>0.137604889761</td><td>-61.5534</td><td>235.58</td><td>209.24</td><td>267.521</td><td>247.597</td></tr>\n",
       "<tr><td>-1</td><td>2820366617</td><td>10.3762</td><td>241.864</td><td>216.158</td><td>2820366617</td><td>388.06</td><td>-374.68</td><td>327.5</td><td>10.3762</td><td>0.143586</td><td>249.759</td><td>3.524e+11</td><td>0</td><td>1</td><td>satellites</td><td>480.505</td><td>0.0835458571028</td><td>-613.479</td><td>241.887</td><td>216.153</td><td>354.311</td><td>249.839</td></tr>\n",
       "<tr><td>-1</td><td>2820365635</td><td>15.1778</td><td>222.956</td><td>213.702</td><td>2820365635</td><td>400.81</td><td>173.45</td><td>-238.95</td><td>15.1778</td><td>0.139514</td><td>237.977</td><td>3.233e+11</td><td>0</td><td>1</td><td>satellites</td><td>371.248</td><td>0.0598584979674</td><td>131.696</td><td>222.978</td><td>213.649</td><td>-268.128</td><td>237.961</td></tr>\n",
       "</table>"
      ],
      "text/plain": [
       "<Table length=88714>\n",
       "halo_upid halo_hostid halo_nfw_conc  halo_y ...    y       x       vz       z   \n",
       "  int64      int64       float32    float32 ... float32 float32 float32  float32\n",
       "--------- ----------- ------------- ------- ... ------- ------- -------- -------\n",
       "       -1  2811042639       8.62937 43.1408 ... 43.1408 36.1798   -78.88 17.9634\n",
       "       -1  2811055606       6.17233 49.5442 ... 49.5442 45.3664  -128.08 40.0159\n",
       "       -1  2809250167       8.62862 13.8826 ... 13.8826 22.0232   -35.19 9.80153\n",
       "       -1  2809483946       7.20131 36.6788 ... 36.6788 12.2979  -391.28 34.1809\n",
       "       -1  2809272603       6.69101 26.1288 ... 26.1288 10.6604  -171.47 22.5009\n",
       "       -1  2809261554       9.26116 29.5494 ... 29.5494 1.93592   224.59 18.1172\n",
       "       -1  2809285813       5.74128 24.6632 ... 24.6632 14.8268  -470.92 38.8625\n",
       "       -1  2809273410       9.21493 25.6495 ... 25.6495 15.1038  -194.93 23.6818\n",
       "       -1  2809284998       7.29123 33.3391 ... 33.3391 10.4937  -407.85  33.392\n",
       "       -1  2810866534       5.95362 6.28848 ... 6.28848 46.2185    30.36 41.9007\n",
       "      ...         ...           ...     ... ...     ...     ...      ...     ...\n",
       "       -1  2820156872       11.3508  220.39 ... 220.382 208.813 -105.639 228.552\n",
       "       -1  2820342251       7.73405 225.135 ... 225.066 202.783  -316.98 203.032\n",
       "       -1  2820352451       3.67788 245.399 ... 245.525 218.849 -146.807 207.107\n",
       "       -1  2821911644       12.2736 237.936 ...  237.98 235.808 -379.303 225.082\n",
       "       -1  2820342493       9.48775 240.781 ... 240.824  218.41  230.651 200.782\n",
       "       -1  2821721821       17.4344 208.896 ... 208.865 243.035 -148.317 232.922\n",
       "       -1  2820342200       9.10927 232.282 ... 232.268 209.367 -156.178 202.396\n",
       "       -1  2820366570       5.36856 235.606 ...  235.58  209.24  267.521 247.597\n",
       "       -1  2820366617       10.3762 241.864 ... 241.887 216.153  354.311 249.839\n",
       "       -1  2820365635       15.1778 222.956 ... 222.978 213.649 -268.128 237.961"
      ]
     },
     "execution_count": 12,
     "metadata": {},
     "output_type": "execute_result"
    }
   ],
   "source": [
    "model.mock.galaxy_table"
   ]
  },
  {
   "cell_type": "code",
   "execution_count": 19,
   "metadata": {
    "collapsed": false
   },
   "outputs": [],
   "source": [
    "uniq_halo_idx = np.unique(np.array(model.mock.galaxy_table['halo_id']),return_index=1)[1]"
   ]
  },
  {
   "cell_type": "code",
   "execution_count": 21,
   "metadata": {
    "collapsed": false
   },
   "outputs": [],
   "source": [
    "Ncen = model.mock.galaxy_table[uniq_halo_idx]['halo_num_centrals']\n",
    "Nsat = model.mock.galaxy_table[uniq_halo_idx]['halo_num_satellites']"
   ]
  },
  {
   "cell_type": "code",
   "execution_count": 22,
   "metadata": {
    "collapsed": false
   },
   "outputs": [
    {
     "name": "stdout",
     "output_type": "stream",
     "text": [
      "0.977555823431\n"
     ]
    }
   ],
   "source": [
    "print np.mean(Ncen)"
   ]
  },
  {
   "cell_type": "code",
   "execution_count": 23,
   "metadata": {
    "collapsed": false
   },
   "outputs": [
    {
     "name": "stdout",
     "output_type": "stream",
     "text": [
      "0.295534125481\n"
     ]
    }
   ],
   "source": [
    "print np.mean(Nsat)"
   ]
  },
  {
   "cell_type": "code",
   "execution_count": 25,
   "metadata": {
    "collapsed": false
   },
   "outputs": [
    {
     "name": "stdout",
     "output_type": "stream",
     "text": [
      "0.288901105386\n"
     ]
    }
   ],
   "source": [
    "print np.mean(Ncen)*np.mean(Nsat)"
   ]
  },
  {
   "cell_type": "code",
   "execution_count": 24,
   "metadata": {
    "collapsed": false
   },
   "outputs": [
    {
     "name": "stdout",
     "output_type": "stream",
     "text": [
      "0.272802938982\n"
     ]
    }
   ],
   "source": [
    "print np.mean(Ncen*Nsat)"
   ]
  },
  {
   "cell_type": "code",
   "execution_count": null,
   "metadata": {
    "collapsed": true
   },
   "outputs": [],
   "source": []
  }
 ],
 "metadata": {
  "kernelspec": {
   "display_name": "Python 2",
   "language": "python",
   "name": "python2"
  },
  "language_info": {
   "codemirror_mode": {
    "name": "ipython",
    "version": 2
   },
   "file_extension": ".py",
   "mimetype": "text/x-python",
   "name": "python",
   "nbconvert_exporter": "python",
   "pygments_lexer": "ipython2",
   "version": "2.7.12"
  }
 },
 "nbformat": 4,
 "nbformat_minor": 0
}
