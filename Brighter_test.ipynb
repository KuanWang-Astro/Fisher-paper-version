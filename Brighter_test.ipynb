{
 "cells": [
  {
   "cell_type": "code",
   "execution_count": 1,
   "metadata": {
    "collapsed": true
   },
   "outputs": [],
   "source": [
    "import numpy as np\n",
    "import matplotlib.pyplot as plt\n",
    "from matplotlib import cm\n",
    "%matplotlib inline\n",
    "%config InlineBackend.figure_format='retina'\n",
    "import collections\n",
    "from matplotlib import rcParams\n",
    "rcParams['font.family'] = 'serif'\n",
    "rcParams['mathtext.fontset'] = 'dejavuserif'\n",
    "rcParams['mathtext.rm'] = 'serif'\n",
    "rcParams['mathtext.it'] = 'serif:italic'\n",
    "rcParams['mathtext.bf'] = 'serif:bold'\n",
    "rcParams['axes.titlepad'] = 12"
   ]
  },
  {
   "cell_type": "code",
   "execution_count": 4,
   "metadata": {
    "collapsed": false
   },
   "outputs": [],
   "source": [
    "from halotools.sim_manager import CachedHaloCatalog"
   ]
  },
  {
   "cell_type": "code",
   "execution_count": 5,
   "metadata": {
    "collapsed": true
   },
   "outputs": [],
   "source": [
    "halocat = CachedHaloCatalog(simname='bolplanck',version_name='halotools_v0p4',halo_finder='rockstar',redshift=0.0)"
   ]
  },
  {
   "cell_type": "code",
   "execution_count": 16,
   "metadata": {
    "collapsed": true
   },
   "outputs": [],
   "source": [
    "from HOD_models_fix import decorated_hod_model"
   ]
  },
  {
   "cell_type": "code",
   "execution_count": 18,
   "metadata": {
    "collapsed": false
   },
   "outputs": [],
   "source": [
    "model = decorated_hod_model()"
   ]
  },
  {
   "cell_type": "code",
   "execution_count": 62,
   "metadata": {
    "collapsed": false
   },
   "outputs": [],
   "source": [
    "model.param_dict['alpha'] = 1.4\n",
    "model.param_dict['logM1'] = 14.3\n",
    "model.param_dict['sigma_logM'] = 0.5\n",
    "model.param_dict['logM0'] = 12.3\n",
    "model.param_dict['logMmin'] = 13.4"
   ]
  },
  {
   "cell_type": "code",
   "execution_count": 63,
   "metadata": {
    "collapsed": true
   },
   "outputs": [],
   "source": [
    "model.populate_mock(halocat)"
   ]
  },
  {
   "cell_type": "code",
   "execution_count": 64,
   "metadata": {
    "collapsed": false
   },
   "outputs": [
    {
     "data": {
      "text/html": [
       "&lt;Table length=4527&gt;\n",
       "<table id=\"table139678326752656\" class=\"table-striped table-bordered table-condensed\">\n",
       "<thead><tr><th>halo_upid</th><th>halo_hostid</th><th>halo_nfw_conc</th><th>halo_y</th><th>halo_x</th><th>halo_id</th><th>halo_vx</th><th>halo_vy</th><th>halo_vz</th><th>conc_NFWmodel</th><th>halo_rvir</th><th>halo_z</th><th>halo_mvir</th><th>halo_num_centrals</th><th>halo_num_satellites</th><th>gal_type</th><th>vx</th><th>host_centric_distance</th><th>vy</th><th>y</th><th>x</th><th>vz</th><th>z</th></tr></thead>\n",
       "<thead><tr><th>int64</th><th>int64</th><th>float32</th><th>float32</th><th>float32</th><th>int64</th><th>float32</th><th>float32</th><th>float32</th><th>float32</th><th>float32</th><th>float32</th><th>float32</th><th>int32</th><th>int32</th><th>object</th><th>float32</th><th>float64</th><th>float32</th><th>float32</th><th>float32</th><th>float32</th><th>float32</th></tr></thead>\n",
       "<tr><td>-1</td><td>2811042639</td><td>8.62937</td><td>43.1408</td><td>36.1798</td><td>2811042639</td><td>16.1</td><td>8.51</td><td>-78.88</td><td>8.62937</td><td>1.19045</td><td>17.9634</td><td>2.008e+14</td><td>1</td><td>3</td><td>centrals</td><td>16.1</td><td>0.0</td><td>8.51</td><td>43.1408</td><td>36.1798</td><td>-78.88</td><td>17.9634</td></tr>\n",
       "<tr><td>-1</td><td>2811055606</td><td>6.17233</td><td>49.5442</td><td>45.3664</td><td>2811055606</td><td>2.46</td><td>264.77</td><td>-128.08</td><td>6.17233</td><td>1.14685</td><td>40.0159</td><td>1.796e+14</td><td>1</td><td>0</td><td>centrals</td><td>2.46</td><td>0.0</td><td>264.77</td><td>49.5442</td><td>45.3664</td><td>-128.08</td><td>40.0159</td></tr>\n",
       "<tr><td>-1</td><td>2809250167</td><td>8.62862</td><td>13.8826</td><td>22.0232</td><td>2809250167</td><td>18.49</td><td>124.89</td><td>-35.19</td><td>8.62862</td><td>1.02934</td><td>9.80153</td><td>1.298e+14</td><td>1</td><td>0</td><td>centrals</td><td>18.49</td><td>0.0</td><td>124.89</td><td>13.8826</td><td>22.0232</td><td>-35.19</td><td>9.80153</td></tr>\n",
       "<tr><td>-1</td><td>2809483946</td><td>7.20131</td><td>36.6788</td><td>12.2979</td><td>2809483946</td><td>-281.37</td><td>-115.39</td><td>-391.28</td><td>7.20131</td><td>0.952978</td><td>34.1809</td><td>1.03e+14</td><td>1</td><td>0</td><td>centrals</td><td>-281.37</td><td>0.0</td><td>-115.39</td><td>36.6788</td><td>12.2979</td><td>-391.28</td><td>34.1809</td></tr>\n",
       "<tr><td>-1</td><td>2809272603</td><td>6.69101</td><td>26.1288</td><td>10.6604</td><td>2809272603</td><td>-43.87</td><td>292.95</td><td>-171.47</td><td>6.69101</td><td>0.941893</td><td>22.5009</td><td>9.947e+13</td><td>1</td><td>0</td><td>centrals</td><td>-43.87</td><td>0.0</td><td>292.95</td><td>26.1288</td><td>10.6604</td><td>-171.47</td><td>22.5009</td></tr>\n",
       "<tr><td>-1</td><td>2809261554</td><td>9.26116</td><td>29.5494</td><td>1.93592</td><td>2809261554</td><td>281.14</td><td>229.38</td><td>224.59</td><td>9.26116</td><td>0.927672</td><td>18.1172</td><td>9.503e+13</td><td>1</td><td>0</td><td>centrals</td><td>281.14</td><td>0.0</td><td>229.38</td><td>29.5494</td><td>1.93592</td><td>224.59</td><td>18.1172</td></tr>\n",
       "<tr><td>-1</td><td>2809273410</td><td>9.21493</td><td>25.6495</td><td>15.1038</td><td>2809273410</td><td>-365.37</td><td>199.12</td><td>-194.93</td><td>9.21493</td><td>0.897055</td><td>23.6818</td><td>8.593e+13</td><td>1</td><td>0</td><td>centrals</td><td>-365.37</td><td>0.0</td><td>199.12</td><td>25.6495</td><td>15.1038</td><td>-194.93</td><td>23.6818</td></tr>\n",
       "<tr><td>-1</td><td>2809284998</td><td>7.29123</td><td>33.3391</td><td>10.4937</td><td>2809284998</td><td>-44.45</td><td>275.28</td><td>-407.85</td><td>7.29123</td><td>0.886089</td><td>33.392</td><td>8.282e+13</td><td>1</td><td>0</td><td>centrals</td><td>-44.45</td><td>0.0</td><td>275.28</td><td>33.3391</td><td>10.4937</td><td>-407.85</td><td>33.392</td></tr>\n",
       "<tr><td>-1</td><td>2810866534</td><td>5.95362</td><td>6.28848</td><td>46.2185</td><td>2810866534</td><td>-255.78</td><td>139.39</td><td>30.36</td><td>5.95362</td><td>0.885411</td><td>41.9007</td><td>8.263e+13</td><td>1</td><td>0</td><td>centrals</td><td>-255.78</td><td>0.0</td><td>139.39</td><td>6.28848</td><td>46.2185</td><td>30.36</td><td>41.9007</td></tr>\n",
       "<tr><td>-1</td><td>2809250838</td><td>6.90835</td><td>14.2949</td><td>26.5861</td><td>2809250838</td><td>-166.29</td><td>78.09</td><td>342.47</td><td>6.90835</td><td>0.849955</td><td>6.27192</td><td>7.309e+13</td><td>1</td><td>0</td><td>centrals</td><td>-166.29</td><td>0.0</td><td>78.09</td><td>14.2949</td><td>26.5861</td><td>342.47</td><td>6.27192</td></tr>\n",
       "<tr><td>...</td><td>...</td><td>...</td><td>...</td><td>...</td><td>...</td><td>...</td><td>...</td><td>...</td><td>...</td><td>...</td><td>...</td><td>...</td><td>...</td><td>...</td><td>...</td><td>...</td><td>...</td><td>...</td><td>...</td><td>...</td><td>...</td><td>...</td></tr>\n",
       "<tr><td>-1</td><td>2821902427</td><td>6.3422</td><td>219.821</td><td>242.143</td><td>2821902427</td><td>-152.76</td><td>368.11</td><td>142.6</td><td>6.3422</td><td>1.3887</td><td>222.259</td><td>3.188e+14</td><td>1</td><td>5</td><td>satellites</td><td>-212.649</td><td>1.03106607233</td><td>-243.273</td><td>219.112</td><td>241.553</td><td>-412.695</td><td>221.798</td></tr>\n",
       "<tr><td>-1</td><td>2821902427</td><td>6.3422</td><td>219.821</td><td>242.143</td><td>2821902427</td><td>-152.76</td><td>368.11</td><td>142.6</td><td>6.3422</td><td>1.3887</td><td>222.259</td><td>3.188e+14</td><td>1</td><td>5</td><td>satellites</td><td>-253.572</td><td>1.12559532068</td><td>-571.32</td><td>220.024</td><td>241.833</td><td>-285.326</td><td>221.196</td></tr>\n",
       "<tr><td>-1</td><td>2821902427</td><td>6.3422</td><td>219.821</td><td>242.143</td><td>2821902427</td><td>-152.76</td><td>368.11</td><td>142.6</td><td>6.3422</td><td>1.3887</td><td>222.259</td><td>3.188e+14</td><td>1</td><td>5</td><td>satellites</td><td>654.866</td><td>0.257076283081</td><td>-65.1987</td><td>220.075</td><td>242.109</td><td>355.63</td><td>222.278</td></tr>\n",
       "<tr><td>-1</td><td>2821902427</td><td>6.3422</td><td>219.821</td><td>242.143</td><td>2821902427</td><td>-152.76</td><td>368.11</td><td>142.6</td><td>6.3422</td><td>1.3887</td><td>222.259</td><td>3.188e+14</td><td>1</td><td>5</td><td>satellites</td><td>-1291.32</td><td>0.865504638757</td><td>-561.994</td><td>219.839</td><td>241.743</td><td>217.359</td><td>221.491</td></tr>\n",
       "<tr><td>-1</td><td>2821902427</td><td>6.3422</td><td>219.821</td><td>242.143</td><td>2821902427</td><td>-152.76</td><td>368.11</td><td>142.6</td><td>6.3422</td><td>1.3887</td><td>222.259</td><td>3.188e+14</td><td>1</td><td>5</td><td>satellites</td><td>-57.0395</td><td>0.320718957654</td><td>932.789</td><td>220.113</td><td>242.084</td><td>939.947</td><td>222.377</td></tr>\n",
       "<tr><td>-1</td><td>2821890241</td><td>4.92924</td><td>224.291</td><td>240.751</td><td>2821890241</td><td>245.68</td><td>-1.43</td><td>352.17</td><td>4.92924</td><td>1.15114</td><td>216.976</td><td>1.816e+14</td><td>0</td><td>1</td><td>satellites</td><td>819.27</td><td>0.633171350663</td><td>152.133</td><td>224.529</td><td>240.876</td><td>832.078</td><td>217.549</td></tr>\n",
       "<tr><td>-1</td><td>2821910436</td><td>7.76847</td><td>226.49</td><td>223.458</td><td>2821910436</td><td>470.52</td><td>57.63</td><td>-167.97</td><td>7.76847</td><td>0.714124</td><td>223.642</td><td>4.335e+13</td><td>1</td><td>1</td><td>satellites</td><td>304.285</td><td>0.493148273451</td><td>4.06924</td><td>226.904</td><td>223.681</td><td>-55.4948</td><td>223.79</td></tr>\n",
       "<tr><td>-1</td><td>2820364438</td><td>7.67582</td><td>227.952</td><td>220.887</td><td>2820364438</td><td>388.4</td><td>480.14</td><td>-85.59</td><td>7.67582</td><td>0.621373</td><td>245.134</td><td>2.856e+13</td><td>1</td><td>1</td><td>satellites</td><td>67.5109</td><td>0.462665527922</td><td>511.245</td><td>227.969</td><td>220.46</td><td>-144.177</td><td>245.31</td></tr>\n",
       "<tr><td>-1</td><td>2821878268</td><td>8.98095</td><td>221.686</td><td>246.171</td><td>2821878268</td><td>-3.6</td><td>72.7</td><td>300.99</td><td>8.98095</td><td>0.4158</td><td>213.33</td><td>8.558e+12</td><td>0</td><td>1</td><td>satellites</td><td>-79.208</td><td>0.162055852526</td><td>314.392</td><td>221.841</td><td>246.209</td><td>155.451</td><td>213.3</td></tr>\n",
       "<tr><td>-1</td><td>2820155718</td><td>7.20159</td><td>203.528</td><td>202.377</td><td>2820155718</td><td>253.59</td><td>146.62</td><td>-14.97</td><td>7.20159</td><td>0.394258</td><td>227.138</td><td>7.295e+12</td><td>1</td><td>1</td><td>satellites</td><td>226.879</td><td>0.0650995056887</td><td>516.424</td><td>203.586</td><td>202.354</td><td>62.4148</td><td>227.12</td></tr>\n",
       "</table>"
      ],
      "text/plain": [
       "<Table length=4527>\n",
       "halo_upid halo_hostid halo_nfw_conc  halo_y ...    y       x       vz       z   \n",
       "  int64      int64       float32    float32 ... float32 float32 float32  float32\n",
       "--------- ----------- ------------- ------- ... ------- ------- -------- -------\n",
       "       -1  2811042639       8.62937 43.1408 ... 43.1408 36.1798   -78.88 17.9634\n",
       "       -1  2811055606       6.17233 49.5442 ... 49.5442 45.3664  -128.08 40.0159\n",
       "       -1  2809250167       8.62862 13.8826 ... 13.8826 22.0232   -35.19 9.80153\n",
       "       -1  2809483946       7.20131 36.6788 ... 36.6788 12.2979  -391.28 34.1809\n",
       "       -1  2809272603       6.69101 26.1288 ... 26.1288 10.6604  -171.47 22.5009\n",
       "       -1  2809261554       9.26116 29.5494 ... 29.5494 1.93592   224.59 18.1172\n",
       "       -1  2809273410       9.21493 25.6495 ... 25.6495 15.1038  -194.93 23.6818\n",
       "       -1  2809284998       7.29123 33.3391 ... 33.3391 10.4937  -407.85  33.392\n",
       "       -1  2810866534       5.95362 6.28848 ... 6.28848 46.2185    30.36 41.9007\n",
       "       -1  2809250838       6.90835 14.2949 ... 14.2949 26.5861   342.47 6.27192\n",
       "      ...         ...           ...     ... ...     ...     ...      ...     ...\n",
       "       -1  2821902427        6.3422 219.821 ... 219.112 241.553 -412.695 221.798\n",
       "       -1  2821902427        6.3422 219.821 ... 220.024 241.833 -285.326 221.196\n",
       "       -1  2821902427        6.3422 219.821 ... 220.075 242.109   355.63 222.278\n",
       "       -1  2821902427        6.3422 219.821 ... 219.839 241.743  217.359 221.491\n",
       "       -1  2821902427        6.3422 219.821 ... 220.113 242.084  939.947 222.377\n",
       "       -1  2821890241       4.92924 224.291 ... 224.529 240.876  832.078 217.549\n",
       "       -1  2821910436       7.76847  226.49 ... 226.904 223.681 -55.4948  223.79\n",
       "       -1  2820364438       7.67582 227.952 ... 227.969  220.46 -144.177  245.31\n",
       "       -1  2821878268       8.98095 221.686 ... 221.841 246.209  155.451   213.3\n",
       "       -1  2820155718       7.20159 203.528 ... 203.586 202.354  62.4148  227.12"
      ]
     },
     "execution_count": 64,
     "metadata": {},
     "output_type": "execute_result"
    }
   ],
   "source": [
    "model.mock.galaxy_table"
   ]
  },
  {
   "cell_type": "code",
   "execution_count": 52,
   "metadata": {
    "collapsed": false
   },
   "outputs": [
    {
     "data": {
      "text/plain": [
       "4531.25"
      ]
     },
     "execution_count": 52,
     "metadata": {},
     "output_type": "execute_result"
    }
   ],
   "source": [
    "0.29/1000*250**3"
   ]
  },
  {
   "cell_type": "code",
   "execution_count": 85,
   "metadata": {
    "collapsed": false
   },
   "outputs": [
    {
     "data": {
      "text/html": [
       "&lt;Table length=18000&gt;\n",
       "<table id=\"table139678252894608\" class=\"table-striped table-bordered table-condensed\">\n",
       "<thead><tr><th>halo_vmax_firstacc</th><th>halo_dmvir_dt_tdyn</th><th>halo_macc</th><th>halo_scale_factor</th><th>halo_vmax_mpeak</th><th>halo_m_pe_behroozi</th><th>halo_delta_vmax_behroozi17</th><th>halo_xoff</th><th>halo_spin</th><th>halo_tidal_force</th><th>halo_scale_factor_firstacc</th><th>halo_c_to_a</th><th>halo_mvir_firstacc</th><th>halo_scale_factor_last_mm</th><th>halo_tidal_id</th><th>halo_scale_factor_mpeak</th><th>halo_pid</th><th>halo_m500c</th><th>halo_id</th><th>halo_halfmass_scale_factor</th><th>halo_upid</th><th>halo_t_by_u</th><th>halo_rvir</th><th>halo_vpeak</th><th>halo_dmvir_dt_100myr</th><th>halo_mpeak</th><th>halo_m_pe_diemer</th><th>halo_jx</th><th>halo_jy</th><th>halo_jz</th><th>halo_m2500c</th><th>halo_mvir</th><th>halo_voff</th><th>halo_axisA_z</th><th>halo_axisA_x</th><th>halo_axisA_y</th><th>halo_y</th><th>halo_b_to_a</th><th>halo_x</th><th>halo_z</th><th>halo_m200b</th><th>halo_vacc</th><th>halo_scale_factor_lastacc</th><th>halo_vmax</th><th>halo_m200c</th><th>halo_vx</th><th>halo_vy</th><th>halo_vz</th><th>halo_dmvir_dt_inst</th><th>halo_tidal_force_tdyn</th><th>halo_rs</th><th>halo_nfw_conc</th><th>halo_hostid</th><th>halo_mvir_host_halo</th></tr></thead>\n",
       "<thead><tr><th>float32</th><th>float32</th><th>float32</th><th>float32</th><th>float32</th><th>float32</th><th>float32</th><th>float32</th><th>float32</th><th>float32</th><th>float32</th><th>float32</th><th>float32</th><th>float32</th><th>int64</th><th>float32</th><th>int64</th><th>float32</th><th>int64</th><th>float32</th><th>int64</th><th>float32</th><th>float32</th><th>float32</th><th>float32</th><th>float32</th><th>float32</th><th>float32</th><th>float32</th><th>float32</th><th>float32</th><th>float32</th><th>float32</th><th>float32</th><th>float32</th><th>float32</th><th>float32</th><th>float32</th><th>float32</th><th>float32</th><th>float32</th><th>float32</th><th>float32</th><th>float32</th><th>float32</th><th>float32</th><th>float32</th><th>float32</th><th>float32</th><th>float32</th><th>float32</th><th>float32</th><th>int64</th><th>float32</th></tr></thead>\n",
       "<tr><td>1692.4</td><td>33700.0</td><td>1.269e+15</td><td>1.00231</td><td>1688.0</td><td>1.287e+15</td><td>-0.03301</td><td>0.115198</td><td>0.01538</td><td>0.0</td><td>1.00231</td><td>0.48732</td><td>1.269e+15</td><td>0.48594</td><td>-1</td><td>0.934</td><td>-1</td><td>6.9023e+14</td><td>2811886267</td><td>0.63275</td><td>-1</td><td>0.6436</td><td>2.20108</td><td>1853.76</td><td>-27470.0</td><td>1.28e+15</td><td>9.994e+14</td><td>1.935e+16</td><td>1.005e+17</td><td>-4.212e+16</td><td>2.9957e+14</td><td>1.269e+15</td><td>36.97</td><td>17.8095</td><td>97.6029</td><td>-83.905</td><td>166.646</td><td>0.62159</td><td>49.469</td><td>92.5897</td><td>1.4441e+15</td><td>1692.4</td><td>1.00231</td><td>1692.4</td><td>1.0114e+15</td><td>-254.94</td><td>324.35</td><td>-331.43</td><td>-27470.0</td><td>0.0</td><td>0.401516</td><td>5.48193</td><td>2811886267</td><td>1.269e+15</td></tr>\n",
       "<tr><td>1560.31</td><td>111200.0</td><td>1.1e+15</td><td>1.00231</td><td>1560.31</td><td>1.115e+15</td><td>-0.02927</td><td>0.119396</td><td>0.02999</td><td>0.0</td><td>1.00231</td><td>0.36421</td><td>1.1e+15</td><td>0.25306</td><td>-1</td><td>1.002</td><td>-1</td><td>5.3399e+14</td><td>2809372245</td><td>0.60237</td><td>-1</td><td>0.655</td><td>2.09873</td><td>1676.44</td><td>45780.0</td><td>1.1e+15</td><td>1.02e+15</td><td>1.696e+15</td><td>2.065e+16</td><td>1.763e+17</td><td>2.1599e+14</td><td>1.1e+15</td><td>277.6</td><td>80.0556</td><td>97.3189</td><td>-76.585</td><td>33.8867</td><td>0.50444</td><td>17.4634</td><td>152.691</td><td>1.2221e+15</td><td>1560.31</td><td>1.00231</td><td>1560.31</td><td>8.7974e+14</td><td>-670.04</td><td>508.03</td><td>110.75</td><td>45780.0</td><td>0.0</td><td>0.470431</td><td>4.4613</td><td>2809372245</td><td>1.1e+15</td></tr>\n",
       "<tr><td>1407.03</td><td>16530.0</td><td>6.447e+14</td><td>1.00231</td><td>1362.62</td><td>6.831e+14</td><td>0.01595</td><td>0.0738047</td><td>0.01538</td><td>0.21377</td><td>1.00231</td><td>0.47612</td><td>6.447e+14</td><td>0.491</td><td>2811886267</td><td>0.9416</td><td>-1</td><td>4.0006e+14</td><td>2811905606</td><td>0.653</td><td>-1</td><td>0.6648</td><td>1.75608</td><td>1452.99</td><td>-9155.0</td><td>6.483e+14</td><td>4.493e+14</td><td>-2.086e+16</td><td>1.476e+16</td><td>2.511e+16</td><td>1.7718e+14</td><td>6.447e+14</td><td>107.29</td><td>33.3397</td><td>20.2462</td><td>94.609</td><td>178.582</td><td>0.73357</td><td>33.4614</td><td>99.9124</td><td>7.3311e+14</td><td>1407.03</td><td>1.00231</td><td>1407.03</td><td>5.3864e+14</td><td>271.8</td><td>217.94</td><td>-136.75</td><td>-9155.0</td><td>0.21772</td><td>0.256306</td><td>6.8515</td><td>2811905606</td><td>6.447e+14</td></tr>\n",
       "<tr><td>1337.73</td><td>84620.0</td><td>5.166e+14</td><td>1.00231</td><td>1337.73</td><td>5.639e+14</td><td>0.06514</td><td>0.0917826</td><td>0.0569</td><td>0.17922</td><td>1.00231</td><td>0.50972</td><td>5.166e+14</td><td>0.91119</td><td>2811905606</td><td>1.002</td><td>-1</td><td>3.2109e+14</td><td>2812067606</td><td>0.7669</td><td>-1</td><td>0.712</td><td>1.63116</td><td>1337.81</td><td>22890.0</td><td>5.166e+14</td><td>3.548e+14</td><td>3.876e+16</td><td>-7.246e+16</td><td>-5.298e+16</td><td>1.4306e+14</td><td>5.166e+14</td><td>466.52</td><td>65.2845</td><td>73.9321</td><td>0.8329</td><td>191.635</td><td>0.59541</td><td>45.3754</td><td>109.345</td><td>5.3923e+14</td><td>1337.73</td><td>1.00231</td><td>1337.73</td><td>4.4987e+14</td><td>-156.68</td><td>-701.24</td><td>-114.06</td><td>22890.0</td><td>0.18862</td><td>0.230724</td><td>7.06976</td><td>2812067606</td><td>5.166e+14</td></tr>\n",
       "<tr><td>1334.9</td><td>64090.0</td><td>4.214e+14</td><td>1.00231</td><td>1334.9</td><td>5.306e+14</td><td>0.09468</td><td>0.0992822</td><td>0.01502</td><td>0.0</td><td>1.00231</td><td>0.54397</td><td>4.214e+14</td><td>0.62769</td><td>-1</td><td>1.002</td><td>-1</td><td>3.0776e+14</td><td>2813000101</td><td>0.64287</td><td>-1</td><td>0.7476</td><td>1.52402</td><td>1336.86</td><td>18310.0</td><td>4.214e+14</td><td>2.531e+14</td><td>3.616e+15</td><td>1.775e+16</td><td>4.43e+15</td><td>1.4682e+14</td><td>4.214e+14</td><td>398.94</td><td>62.0289</td><td>-45.3282</td><td>32.2125</td><td>100.972</td><td>0.79022</td><td>59.4743</td><td>36.7131</td><td>4.6821e+14</td><td>1334.9</td><td>1.00231</td><td>1334.9</td><td>3.6843e+14</td><td>-407.43</td><td>354.06</td><td>349.86</td><td>18310.0</td><td>0.0</td><td>0.15496</td><td>9.83495</td><td>2813000101</td><td>4.214e+14</td></tr>\n",
       "<tr><td>1284.32</td><td>38270.0</td><td>4.889e+14</td><td>1.00231</td><td>1250.11</td><td>5.228e+14</td><td>0.01934</td><td>0.0400978</td><td>0.02266</td><td>0.59042</td><td>1.00231</td><td>0.44816</td><td>4.889e+14</td><td>0.56694</td><td>2811886267</td><td>0.9871</td><td>-1</td><td>2.9865e+14</td><td>2811878391</td><td>0.59731</td><td>-1</td><td>0.6722</td><td>1.60146</td><td>1363.32</td><td>12820.0</td><td>5.014e+14</td><td>3.542e+14</td><td>2.934e+16</td><td>1.184e+16</td><td>1.105e+16</td><td>1.1711e+14</td><td>4.889e+14</td><td>345.93</td><td>87.1112</td><td>11.9431</td><td>-17.5362</td><td>168.076</td><td>0.61008</td><td>49.4514</td><td>86.1146</td><td>5.3785e+14</td><td>1284.32</td><td>1.00231</td><td>1284.32</td><td>4.1498e+14</td><td>-157.57</td><td>-126.36</td><td>141.05</td><td>12820.0</td><td>0.56101</td><td>0.244803</td><td>6.54185</td><td>2811878391</td><td>4.889e+14</td></tr>\n",
       "<tr><td>1275.26</td><td>236600.0</td><td>5.97e+14</td><td>1.00231</td><td>1275.26</td><td>6.046e+14</td><td>0.16686</td><td>0.232752</td><td>0.03326</td><td>0.0</td><td>1.00231</td><td>0.21655</td><td>5.97e+14</td><td>0.91119</td><td>-1</td><td>1.002</td><td>-1</td><td>2.4979e+14</td><td>2816085895</td><td>0.8884</td><td>-1</td><td>0.741</td><td>1.71167</td><td>1287.6</td><td>39370.0</td><td>5.97e+14</td><td>6.823e+14</td><td>2.427e+16</td><td>-4.463e+16</td><td>6.902e+16</td><td>4.5561e+13</td><td>5.97e+14</td><td>479.64</td><td>50.0545</td><td>64.1228</td><td>162.359</td><td>64.7763</td><td>0.25934</td><td>140.153</td><td>118.682</td><td>6.5974e+14</td><td>1275.26</td><td>1.00231</td><td>1275.26</td><td>4.7917e+14</td><td>385.99</td><td>378.14</td><td>412.87</td><td>39370.0</td><td>0.62026</td><td>0.566496</td><td>3.02151</td><td>2816085895</td><td>5.97e+14</td></tr>\n",
       "<tr><td>1266.08</td><td>235.6</td><td>4.507e+14</td><td>1.00231</td><td>1285.59</td><td>4.754e+14</td><td>-0.00966</td><td>0.0664575</td><td>0.03098</td><td>0.0</td><td>1.00231</td><td>0.46094</td><td>4.507e+14</td><td>0.52644</td><td>-1</td><td>0.9264</td><td>-1</td><td>2.7184e+14</td><td>2816922865</td><td>0.52644</td><td>-1</td><td>0.601</td><td>1.55855</td><td>1407.91</td><td>10990.0</td><td>4.561e+14</td><td>2.822e+14</td><td>3.41e+16</td><td>-1.016e+16</td><td>4.583e+15</td><td>1.3226e+14</td><td>4.507e+14</td><td>16.46</td><td>71.1925</td><td>-45.8678</td><td>-12.4257</td><td>208.772</td><td>0.57509</td><td>149.518</td><td>147.834</td><td>5.081e+14</td><td>1266.08</td><td>1.00231</td><td>1266.08</td><td>3.7866e+14</td><td>287.4</td><td>143.17</td><td>-16.18</td><td>10990.0</td><td>0.0</td><td>0.202563</td><td>7.69416</td><td>2816922865</td><td>4.507e+14</td></tr>\n",
       "<tr><td>1262.29</td><td>44020.0</td><td>5.072e+14</td><td>1.00231</td><td>1262.29</td><td>5.584e+14</td><td>0.04624</td><td>0.188076</td><td>0.00404</td><td>0.0</td><td>1.00231</td><td>0.31951</td><td>5.072e+14</td><td>0.71375</td><td>-1</td><td>1.002</td><td>-1</td><td>2.7653e+14</td><td>2821496947</td><td>0.72134</td><td>-1</td><td>0.7022</td><td>1.62112</td><td>1286.16</td><td>15560.0</td><td>5.072e+14</td><td>4.867e+14</td><td>4.422e+15</td><td>-1.598e+15</td><td>-5.272e+15</td><td>5.7915e+13</td><td>5.072e+14</td><td>269.3</td><td>30.178</td><td>93.6075</td><td>96.6536</td><td>164.581</td><td>0.53922</td><td>229.287</td><td>196.627</td><td>5.3821e+14</td><td>1262.29</td><td>1.00231</td><td>1262.29</td><td>4.4242e+14</td><td>135.94</td><td>-9.01</td><td>117.53</td><td>15560.0</td><td>0.0</td><td>0.36891</td><td>4.39435</td><td>2821496947</td><td>5.072e+14</td></tr>\n",
       "<tr><td>1261.58</td><td>167600.0</td><td>4.966e+14</td><td>1.00231</td><td>1261.58</td><td>5.142e+14</td><td>0.18676</td><td>0.240467</td><td>0.02935</td><td>0.18729</td><td>1.00231</td><td>0.19869</td><td>4.966e+14</td><td>0.90359</td><td>2809372245</td><td>1.002</td><td>-1</td><td>2.9552e+14</td><td>2820685144</td><td>0.88081</td><td>-1</td><td>0.8352</td><td>1.60979</td><td>1290.15</td><td>61340.0</td><td>4.966e+14</td><td>4.806e+14</td><td>-1.456e+16</td><td>4.661e+16</td><td>4.6e+16</td><td>6.4101e+13</td><td>4.966e+14</td><td>220.51</td><td>-30.412</td><td>146.068</td><td>-17.252</td><td>47.2656</td><td>0.30602</td><td>247.407</td><td>149.964</td><td>5.4093e+14</td><td>1261.58</td><td>1.00231</td><td>1261.58</td><td>4.0737e+14</td><td>131.41</td><td>-250.76</td><td>-69.23</td><td>61340.0</td><td>0.24719</td><td>0.382383</td><td>4.2099</td><td>2820685144</td><td>4.966e+14</td></tr>\n",
       "<tr><td>...</td><td>...</td><td>...</td><td>...</td><td>...</td><td>...</td><td>...</td><td>...</td><td>...</td><td>...</td><td>...</td><td>...</td><td>...</td><td>...</td><td>...</td><td>...</td><td>...</td><td>...</td><td>...</td><td>...</td><td>...</td><td>...</td><td>...</td><td>...</td><td>...</td><td>...</td><td>...</td><td>...</td><td>...</td><td>...</td><td>...</td><td>...</td><td>...</td><td>...</td><td>...</td><td>...</td><td>...</td><td>...</td><td>...</td><td>...</td><td>...</td><td>...</td><td>...</td><td>...</td><td>...</td><td>...</td><td>...</td><td>...</td><td>...</td><td>...</td><td>...</td><td>...</td><td>...</td><td>...</td></tr>\n",
       "<tr><td>368.72</td><td>-3046.0</td><td>8.474e+12</td><td>1.00231</td><td>372.81</td><td>3.42e+12</td><td>-0.12487</td><td>0.0153448</td><td>0.01777</td><td>2.46823</td><td>0.83525</td><td>0.6145</td><td>8.474e+12</td><td>0.44037</td><td>2811311232</td><td>0.7897</td><td>2811311232</td><td>1.5825e+12</td><td>2811311223</td><td>0.43531</td><td>2811311232</td><td>0.509</td><td>0.255604</td><td>401.36</td><td>-650.0</td><td>8.577e+12</td><td>8.897e+11</td><td>1.382e+12</td><td>1.063e+12</td><td>1.01e+11</td><td>1.1278e+12</td><td>1.988e+12</td><td>20.26</td><td>-6.34896</td><td>9.365</td><td>-0.18772</td><td>73.6102</td><td>0.75567</td><td>53.7461</td><td>111.86</td><td>2.0156e+12</td><td>368.72</td><td>0.83525</td><td>279.65</td><td>1.8728e+12</td><td>164.38</td><td>-582.95</td><td>-283.71</td><td>-650.0</td><td>3.18931</td><td>0.009295</td><td>27.4991</td><td>2811311232</td><td>6.28e+13</td></tr>\n",
       "<tr><td>279.65</td><td>-28.84</td><td>3.671e+12</td><td>1.00231</td><td>266.98</td><td>4.29e+12</td><td>0.01232</td><td>0.0108977</td><td>0.05632</td><td>0.72374</td><td>1.00231</td><td>0.61031</td><td>3.671e+12</td><td>0.36443</td><td>2821298716</td><td>0.8808</td><td>-1</td><td>2.4494e+12</td><td>2821300209</td><td>0.42012</td><td>-1</td><td>0.5522</td><td>0.313595</td><td>285.84</td><td>-173.9</td><td>3.758e+12</td><td>1.939e+12</td><td>-1.338e+12</td><td>1.297e+13</td><td>-1.391e+13</td><td>1.4355e+12</td><td>3.671e+12</td><td>45.7</td><td>6.21039</td><td>14.0718</td><td>5.0791</td><td>152.092</td><td>0.90437</td><td>225.127</td><td>181.639</td><td>3.9747e+12</td><td>279.65</td><td>1.00231</td><td>279.65</td><td>3.1433e+12</td><td>-685.7</td><td>239.48</td><td>-84.87</td><td>-173.9</td><td>0.62988</td><td>0.028888</td><td>10.8555</td><td>2821300209</td><td>3.671e+12</td></tr>\n",
       "<tr><td>279.64</td><td>87.08</td><td>4.275e+12</td><td>1.00231</td><td>279.64</td><td>4.692e+12</td><td>-0.00626</td><td>0.00623886</td><td>0.03287</td><td>0.26006</td><td>1.00231</td><td>0.68283</td><td>4.275e+12</td><td>0.29356</td><td>2809893815</td><td>1.002</td><td>-1</td><td>2.7028e+12</td><td>2809884233</td><td>0.43531</td><td>-1</td><td>0.557</td><td>0.329921</td><td>295.13</td><td>54.93</td><td>4.275e+12</td><td>2.435e+12</td><td>-4.421e+12</td><td>1.403e+13</td><td>-1.866e+12</td><td>1.4325e+12</td><td>4.275e+12</td><td>12.37</td><td>-0.06018</td><td>18.1813</td><td>2.53076</td><td>115.634</td><td>0.77737</td><td>2.24265</td><td>49.0213</td><td>4.5213e+12</td><td>279.64</td><td>1.00231</td><td>279.64</td><td>3.7229e+12</td><td>8.34</td><td>-163.22</td><td>-263.59</td><td>54.93</td><td>0.2495</td><td>0.036125</td><td>9.13276</td><td>2809884233</td><td>4.275e+12</td></tr>\n",
       "<tr><td>239.28</td><td>156.7</td><td>3.067e+12</td><td>1.00231</td><td>285.33</td><td>4.577e+12</td><td>-0.00876</td><td>0.0210742</td><td>0.04077</td><td>1.93522</td><td>0.93397</td><td>0.60218</td><td>3.067e+12</td><td>0.86562</td><td>2815334236</td><td>0.6125</td><td>2815334236</td><td>2.4314e+12</td><td>2815334147</td><td>0.52137</td><td>2815334236</td><td>0.6972</td><td>0.294527</td><td>305.44</td><td>-54.93</td><td>4.028e+12</td><td>1.391e+12</td><td>-8.869e+12</td><td>7.176e+12</td><td>-1.852e+12</td><td>1.4107e+12</td><td>3.041e+12</td><td>30.64</td><td>19.6552</td><td>-1.02724</td><td>-6.78649</td><td>190.114</td><td>0.61606</td><td>103.179</td><td>187.756</td><td>3.1669e+12</td><td>239.28</td><td>0.93397</td><td>279.63</td><td>2.8179e+12</td><td>901.59</td><td>705.45</td><td>-875.7</td><td>-54.93</td><td>1.43713</td><td>0.01938</td><td>15.1975</td><td>2815334236</td><td>3.169e+14</td></tr>\n",
       "<tr><td>279.63</td><td>1100.0</td><td>3.894e+12</td><td>1.00231</td><td>279.63</td><td>4.316e+12</td><td>0.12439</td><td>0.027109</td><td>0.04716</td><td>0.24284</td><td>1.00231</td><td>0.62887</td><td>3.894e+12</td><td>0.94915</td><td>2810278408</td><td>1.002</td><td>-1</td><td>2.4846e+12</td><td>2811828632</td><td>0.91878</td><td>-1</td><td>0.7904</td><td>0.319824</td><td>279.63</td><td>494.4</td><td>3.894e+12</td><td>2.435e+12</td><td>-1.945e+13</td><td>3.56e+12</td><td>-1.792e+13</td><td>1.4345e+12</td><td>3.894e+12</td><td>171.86</td><td>-8.38868</td><td>17.9606</td><td>-6.43342</td><td>174.364</td><td>0.65838</td><td>32.0936</td><td>45.5731</td><td>4.071e+12</td><td>279.63</td><td>1.00231</td><td>279.63</td><td>3.3666e+12</td><td>-116.03</td><td>141.73</td><td>356.33</td><td>494.4</td><td>0.23577</td><td>0.039305</td><td>8.13698</td><td>2811828632</td><td>3.894e+12</td></tr>\n",
       "<tr><td>279.62</td><td>115.5</td><td>3.229e+12</td><td>1.00231</td><td>279.62</td><td>3.795e+12</td><td>-0.00245</td><td>0.00425744</td><td>0.0231</td><td>0.68069</td><td>1.00231</td><td>0.75211</td><td>3.229e+12</td><td>0.16194</td><td>2810242274</td><td>1.002</td><td>-1</td><td>2.2281e+12</td><td>2810242303</td><td>0.38975</td><td>-1</td><td>0.5636</td><td>0.300474</td><td>315.13</td><td>146.5</td><td>3.229e+12</td><td>1.592e+12</td><td>1.356e+12</td><td>6.081e+12</td><td>2.044e+11</td><td>1.1715e+12</td><td>3.229e+12</td><td>4.58</td><td>-7.59392</td><td>-1.75574</td><td>10.1049</td><td>182.409</td><td>0.83426</td><td>18.365</td><td>0.27459</td><td>3.5788e+12</td><td>279.62</td><td>1.00231</td><td>279.62</td><td>2.8364e+12</td><td>-104.54</td><td>338.58</td><td>55.84</td><td>146.5</td><td>0.63445</td><td>0.026205</td><td>11.4663</td><td>2810242303</td><td>3.229e+12</td></tr>\n",
       "<tr><td>279.62</td><td>145.7</td><td>4.687e+12</td><td>1.00231</td><td>279.62</td><td>5.153e+12</td><td>-0.01305</td><td>0.00607991</td><td>0.02302</td><td>0.17125</td><td>1.00231</td><td>0.64667</td><td>4.687e+12</td><td>0.57706</td><td>2818160187</td><td>1.002</td><td>-1</td><td>3.0223e+12</td><td>2818161704</td><td>0.572</td><td>-1</td><td>0.5784</td><td>0.340194</td><td>315.0</td><td>164.8</td><td>4.687e+12</td><td>2.968e+12</td><td>-1.06e+13</td><td>6.246e+12</td><td>2.771e+12</td><td>1.3826e+12</td><td>4.687e+12</td><td>18.0</td><td>-0.32737</td><td>16.2749</td><td>8.97875</td><td>141.167</td><td>0.83724</td><td>191.501</td><td>227.412</td><td>5.0942e+12</td><td>279.62</td><td>1.00231</td><td>279.62</td><td>4.0421e+12</td><td>316.32</td><td>-198.89</td><td>-335.02</td><td>164.8</td><td>0.17698</td><td>0.042299</td><td>8.0426</td><td>2818161704</td><td>4.687e+12</td></tr>\n",
       "<tr><td>279.61</td><td>-493.3</td><td>4.104e+12</td><td>1.00231</td><td>286.45</td><td>4.953e+12</td><td>-0.0105</td><td>0.00674814</td><td>0.01973</td><td>0.88694</td><td>1.00231</td><td>0.65297</td><td>4.104e+12</td><td>0.14168</td><td>2814046234</td><td>0.8656</td><td>-1</td><td>2.5396e+12</td><td>2814046297</td><td>0.52644</td><td>-1</td><td>0.5956</td><td>0.325456</td><td>298.34</td><td>-366.2</td><td>5.117e+12</td><td>2.336e+12</td><td>-3.978e+12</td><td>-7.328e+12</td><td>-2.176e+12</td><td>1.3993e+12</td><td>4.104e+12</td><td>17.21</td><td>11.3068</td><td>8.91746</td><td>2.79069</td><td>6.90635</td><td>0.77383</td><td>126.284</td><td>37.2815</td><td>5.0201e+12</td><td>279.61</td><td>1.00231</td><td>279.61</td><td>3.3733e+12</td><td>76.53</td><td>837.09</td><td>-841.22</td><td>-366.2</td><td>0.78194</td><td>0.036163</td><td>8.9997</td><td>2814046297</td><td>4.104e+12</td></tr>\n",
       "<tr><td>279.6</td><td>253.8</td><td>3.402e+12</td><td>1.00231</td><td>280.01</td><td>4.274e+12</td><td>0.00251</td><td>0.0058798</td><td>0.02746</td><td>0.93038</td><td>1.00231</td><td>0.66899</td><td>3.402e+12</td><td>0.41</td><td>2820917645</td><td>0.9795</td><td>-1</td><td>2.4951e+12</td><td>2820917623</td><td>0.41506</td><td>-1</td><td>0.5912</td><td>0.305735</td><td>301.21</td><td>18.31</td><td>3.424e+12</td><td>1.535e+12</td><td>6.796e+12</td><td>9.132e+11</td><td>-4.522e+12</td><td>1.3711e+12</td><td>3.402e+12</td><td>39.86</td><td>6.92102</td><td>10.9004</td><td>5.07952</td><td>87.8404</td><td>0.94023</td><td>228.407</td><td>206.61</td><td>3.5334e+12</td><td>279.6</td><td>1.00231</td><td>279.6</td><td>3.1071e+12</td><td>-127.85</td><td>600.75</td><td>-161.28</td><td>18.31</td><td>0.77501</td><td>0.022417</td><td>13.6385</td><td>2820917623</td><td>3.402e+12</td></tr>\n",
       "<tr><td>279.6</td><td>125.5</td><td>4.262e+12</td><td>1.00231</td><td>279.6</td><td>4.414e+12</td><td>0.00497</td><td>0.017736</td><td>0.02489</td><td>0.1453</td><td>1.00231</td><td>0.78752</td><td>4.262e+12</td><td>0.29356</td><td>2815014391</td><td>1.002</td><td>-1</td><td>2.4875e+12</td><td>2816602370</td><td>0.59731</td><td>-1</td><td>0.5796</td><td>0.329602</td><td>299.06</td><td>183.1</td><td>4.262e+12</td><td>2.388e+12</td><td>6.24e+12</td><td>-3.91e+12</td><td>9.103e+12</td><td>1.3761e+12</td><td>4.262e+12</td><td>29.71</td><td>14.0127</td><td>11.7332</td><td>-0.55462</td><td>181.509</td><td>0.89822</td><td>128.548</td><td>39.0548</td><td>4.707e+12</td><td>279.6</td><td>1.00231</td><td>279.6</td><td>3.45e+12</td><td>-260.64</td><td>59.34</td><td>130.17</td><td>183.1</td><td>0.15095</td><td>0.038215</td><td>8.62494</td><td>2816602370</td><td>4.262e+12</td></tr>\n",
       "</table>"
      ],
      "text/plain": [
       "<Table length=18000>\n",
       "halo_vmax_firstacc halo_dmvir_dt_tdyn ... halo_hostid halo_mvir_host_halo\n",
       "     float32            float32       ...    int64          float32      \n",
       "------------------ ------------------ ... ----------- -------------------\n",
       "            1692.4            33700.0 ...  2811886267           1.269e+15\n",
       "           1560.31           111200.0 ...  2809372245             1.1e+15\n",
       "           1407.03            16530.0 ...  2811905606           6.447e+14\n",
       "           1337.73            84620.0 ...  2812067606           5.166e+14\n",
       "            1334.9            64090.0 ...  2813000101           4.214e+14\n",
       "           1284.32            38270.0 ...  2811878391           4.889e+14\n",
       "           1275.26           236600.0 ...  2816085895            5.97e+14\n",
       "           1266.08              235.6 ...  2816922865           4.507e+14\n",
       "           1262.29            44020.0 ...  2821496947           5.072e+14\n",
       "           1261.58           167600.0 ...  2820685144           4.966e+14\n",
       "               ...                ... ...         ...                 ...\n",
       "            368.72            -3046.0 ...  2811311232            6.28e+13\n",
       "            279.65             -28.84 ...  2821300209           3.671e+12\n",
       "            279.64              87.08 ...  2809884233           4.275e+12\n",
       "            239.28              156.7 ...  2815334236           3.169e+14\n",
       "            279.63             1100.0 ...  2811828632           3.894e+12\n",
       "            279.62              115.5 ...  2810242303           3.229e+12\n",
       "            279.62              145.7 ...  2818161704           4.687e+12\n",
       "            279.61             -493.3 ...  2814046297           4.104e+12\n",
       "             279.6              253.8 ...  2820917623           3.402e+12\n",
       "             279.6              125.5 ...  2816602370           4.262e+12"
      ]
     },
     "execution_count": 85,
     "metadata": {},
     "output_type": "execute_result"
    }
   ],
   "source": [
    "halocat.halo_table[np.argsort(-halocat.halo_table['halo_vmax'])[:18000]]"
   ]
  },
  {
   "cell_type": "code",
   "execution_count": 80,
   "metadata": {
    "collapsed": true
   },
   "outputs": [],
   "source": [
    "from halotools.mock_observables import return_xyz_formatted_array\n",
    "Lbox = 250."
   ]
  },
  {
   "cell_type": "code",
   "execution_count": 90,
   "metadata": {
    "collapsed": true
   },
   "outputs": [],
   "source": [
    "table = halocat.halo_table[:10]"
   ]
  },
  {
   "cell_type": "code",
   "execution_count": 91,
   "metadata": {
    "collapsed": false,
    "scrolled": true
   },
   "outputs": [
    {
     "data": {
      "text/html": [
       "&lt;Table length=10&gt;\n",
       "<table id=\"table139678165714896\" class=\"table-striped table-bordered table-condensed\">\n",
       "<thead><tr><th>halo_vmax_firstacc</th><th>halo_dmvir_dt_tdyn</th><th>halo_macc</th><th>halo_scale_factor</th><th>halo_vmax_mpeak</th><th>halo_m_pe_behroozi</th><th>halo_delta_vmax_behroozi17</th><th>halo_xoff</th><th>halo_spin</th><th>halo_tidal_force</th><th>halo_scale_factor_firstacc</th><th>halo_c_to_a</th><th>halo_mvir_firstacc</th><th>halo_scale_factor_last_mm</th><th>halo_tidal_id</th><th>halo_scale_factor_mpeak</th><th>halo_pid</th><th>halo_m500c</th><th>halo_id</th><th>halo_halfmass_scale_factor</th><th>halo_upid</th><th>halo_t_by_u</th><th>halo_rvir</th><th>halo_vpeak</th><th>halo_dmvir_dt_100myr</th><th>halo_mpeak</th><th>halo_m_pe_diemer</th><th>halo_jx</th><th>halo_jy</th><th>halo_jz</th><th>halo_m2500c</th><th>halo_mvir</th><th>halo_voff</th><th>halo_axisA_z</th><th>halo_axisA_x</th><th>halo_axisA_y</th><th>halo_y</th><th>halo_b_to_a</th><th>halo_x</th><th>halo_z</th><th>halo_m200b</th><th>halo_vacc</th><th>halo_scale_factor_lastacc</th><th>halo_vmax</th><th>halo_m200c</th><th>halo_vx</th><th>halo_vy</th><th>halo_vz</th><th>halo_dmvir_dt_inst</th><th>halo_tidal_force_tdyn</th><th>halo_rs</th><th>halo_nfw_conc</th><th>halo_hostid</th><th>halo_mvir_host_halo</th></tr></thead>\n",
       "<thead><tr><th>float32</th><th>float32</th><th>float32</th><th>float32</th><th>float32</th><th>float32</th><th>float32</th><th>float32</th><th>float32</th><th>float32</th><th>float32</th><th>float32</th><th>float32</th><th>float32</th><th>int64</th><th>float32</th><th>int64</th><th>float32</th><th>int64</th><th>float32</th><th>int64</th><th>float32</th><th>float32</th><th>float32</th><th>float32</th><th>float32</th><th>float32</th><th>float32</th><th>float32</th><th>float32</th><th>float32</th><th>float32</th><th>float32</th><th>float32</th><th>float32</th><th>float32</th><th>float32</th><th>float32</th><th>float32</th><th>float32</th><th>float32</th><th>float32</th><th>float32</th><th>float32</th><th>float32</th><th>float32</th><th>float32</th><th>float32</th><th>float32</th><th>float32</th><th>float32</th><th>float32</th><th>int64</th><th>float32</th></tr></thead>\n",
       "<tr><td>1001.57</td><td>12810.0</td><td>2.008e+14</td><td>1.00231</td><td>1001.57</td><td>2.027e+14</td><td>-0.0026</td><td>0.0257357</td><td>0.02391</td><td>0.11954</td><td>1.00231</td><td>0.47559</td><td>2.008e+14</td><td>0.28343</td><td>2812606193</td><td>1.002</td><td>-1</td><td>1.1658e+14</td><td>2811042639</td><td>0.41506</td><td>-1</td><td>0.593</td><td>1.19045</td><td>1091.38</td><td>17390.0</td><td>2.008e+14</td><td>1.118e+14</td><td>2.536e+15</td><td>-4.744e+14</td><td>-6.566e+15</td><td>6.5777e+13</td><td>2.008e+14</td><td>21.34</td><td>19.2231</td><td>59.7891</td><td>-18.8001</td><td>43.1408</td><td>0.63663</td><td>36.1798</td><td>17.9634</td><td>2.2378e+14</td><td>1001.57</td><td>1.00231</td><td>1001.57</td><td>1.5824e+14</td><td>16.1</td><td>8.51</td><td>-78.88</td><td>17390.0</td><td>0.12244</td><td>0.137953</td><td>8.62937</td><td>2811042639</td><td>2.008e+14</td></tr>\n",
       "<tr><td>895.2</td><td>13760.0</td><td>1.796e+14</td><td>1.00231</td><td>895.2</td><td>1.81e+14</td><td>-0.01065</td><td>0.041987</td><td>0.06297</td><td>0.50587</td><td>1.00231</td><td>0.56181</td><td>1.796e+14</td><td>0.29862</td><td>2811077105</td><td>1.002</td><td>-1</td><td>1.0036e+14</td><td>2811055606</td><td>0.50618</td><td>-1</td><td>0.627</td><td>1.14685</td><td>969.05</td><td>7324.0</td><td>1.796e+14</td><td>1.287e+14</td><td>1.074e+16</td><td>4.931e+15</td><td>-1.185e+16</td><td>4.7026e+13</td><td>1.796e+14</td><td>41.91</td><td>41.2062</td><td>34.6803</td><td>17.8882</td><td>49.5442</td><td>0.8397</td><td>45.3664</td><td>40.0159</td><td>2.0446e+14</td><td>895.2</td><td>1.00231</td><td>895.2</td><td>1.4229e+14</td><td>2.46</td><td>264.77</td><td>-128.08</td><td>7324.0</td><td>0.491</td><td>0.185805</td><td>6.17233</td><td>2811055606</td><td>1.796e+14</td></tr>\n",
       "<tr><td>853.83</td><td>4666.0</td><td>1.298e+14</td><td>1.00231</td><td>853.83</td><td>1.495e+14</td><td>0.00531</td><td>0.0264619</td><td>0.03607</td><td>0.07568</td><td>1.00231</td><td>0.66381</td><td>1.298e+14</td><td>0.49606</td><td>2810630242</td><td>1.002</td><td>-1</td><td>8.7766e+13</td><td>2809250167</td><td>0.491</td><td>-1</td><td>0.5774</td><td>1.02934</td><td>926.37</td><td>2747.0</td><td>1.298e+14</td><td>8.032e+13</td><td>2.133e+15</td><td>-3.236e+15</td><td>-3.111e+15</td><td>3.9496e+13</td><td>1.298e+14</td><td>23.35</td><td>-17.5268</td><td>38.9596</td><td>24.3626</td><td>13.8826</td><td>0.76149</td><td>22.0232</td><td>9.80153</td><td>1.4121e+14</td><td>853.83</td><td>1.00231</td><td>853.83</td><td>1.1201e+14</td><td>18.49</td><td>124.89</td><td>-35.19</td><td>2747.0</td><td>0.10074</td><td>0.119294</td><td>8.62862</td><td>2809250167</td><td>1.298e+14</td></tr>\n",
       "<tr><td>777.64</td><td>4401.0</td><td>1.03e+14</td><td>1.00231</td><td>777.64</td><td>1.048e+14</td><td>0.00498</td><td>0.0516998</td><td>0.05031</td><td>0.09677</td><td>1.00231</td><td>0.47302</td><td>1.03e+14</td><td>0.38469</td><td>2820592816</td><td>1.002</td><td>-1</td><td>5.7781e+13</td><td>2809483946</td><td>0.65806</td><td>-1</td><td>0.6152</td><td>0.952978</td><td>831.17</td><td>2747.0</td><td>1.03e+14</td><td>6.42e+13</td><td>1.713e+15</td><td>-1.488e+15</td><td>4.582e+15</td><td>3.0529e+13</td><td>1.03e+14</td><td>98.45</td><td>24.7744</td><td>-10.3568</td><td>38.9949</td><td>36.6788</td><td>0.7881</td><td>12.2979</td><td>34.1809</td><td>1.1511e+14</td><td>777.64</td><td>1.00231</td><td>777.64</td><td>8.2069e+13</td><td>-281.37</td><td>-115.39</td><td>-391.28</td><td>2747.0</td><td>0.10259</td><td>0.132334</td><td>7.20131</td><td>2809483946</td><td>1.03e+14</td></tr>\n",
       "<tr><td>748.56</td><td>11480.0</td><td>9.947e+13</td><td>1.00231</td><td>748.56</td><td>1.076e+14</td><td>0.05989</td><td>0.0779697</td><td>0.0348</td><td>0.12465</td><td>1.00231</td><td>0.47409</td><td>9.947e+13</td><td>0.63275</td><td>2809483946</td><td>1.002</td><td>-1</td><td>5.91e+13</td><td>2809272603</td><td>0.63781</td><td>-1</td><td>0.67</td><td>0.941893</td><td>748.56</td><td>5218.0</td><td>9.947e+13</td><td>7.097e+13</td><td>1.207e+15</td><td>-2.126e+15</td><td>-2.677e+15</td><td>2.6267e+13</td><td>9.947e+13</td><td>118.79</td><td>29.2183</td><td>52.7796</td><td>6.18836</td><td>26.1288</td><td>0.66155</td><td>10.6604</td><td>22.5009</td><td>1.0811e+14</td><td>748.56</td><td>1.00231</td><td>748.56</td><td>8.4337e+13</td><td>-43.87</td><td>292.95</td><td>-171.47</td><td>5218.0</td><td>0.1579</td><td>0.14077</td><td>6.69101</td><td>2809272603</td><td>9.947e+13</td></tr>\n",
       "<tr><td>793.17</td><td>-2158.0</td><td>9.503e+13</td><td>1.00231</td><td>799.15</td><td>9.72e+13</td><td>-0.00483</td><td>0.0304448</td><td>0.01835</td><td>0.18597</td><td>1.00231</td><td>0.5565</td><td>9.503e+13</td><td>0.30369</td><td>2809272603</td><td>0.8732</td><td>-1</td><td>5.698e+13</td><td>2809261554</td><td>0.48087</td><td>-1</td><td>0.5774</td><td>0.927672</td><td>847.67</td><td>6317.0</td><td>9.956e+13</td><td>5.145e+13</td><td>6.397e+14</td><td>9.265e+14</td><td>-1.004e+15</td><td>3.2381e+13</td><td>9.503e+13</td><td>17.62</td><td>1.58553</td><td>39.1732</td><td>-18.0791</td><td>29.5494</td><td>0.68402</td><td>1.93592</td><td>18.1172</td><td>1.1218e+14</td><td>793.17</td><td>1.00231</td><td>793.17</td><td>7.5621e+13</td><td>281.14</td><td>229.38</td><td>224.59</td><td>6317.0</td><td>0.14729</td><td>0.100168</td><td>9.26116</td><td>2809261554</td><td>9.503e+13</td></tr>\n",
       "<tr><td>699.8</td><td>8478.0</td><td>8.829e+13</td><td>1.00231</td><td>699.8</td><td>8.909e+13</td><td>0.01525</td><td>0.0665959</td><td>0.05127</td><td>0.15</td><td>1.00231</td><td>0.5826</td><td>8.829e+13</td><td>0.38975</td><td>2809483946</td><td>1.002</td><td>-1</td><td>4.7156e+13</td><td>2809285813</td><td>0.60743</td><td>-1</td><td>0.6144</td><td>0.905182</td><td>708.75</td><td>2289.0</td><td>8.829e+13</td><td>6.738e+13</td><td>3.657e+15</td><td>-7.005e+14</td><td>-1.766e+15</td><td>2.2054e+13</td><td>8.829e+13</td><td>174.95</td><td>37.8724</td><td>12.9628</td><td>-16.5</td><td>24.6632</td><td>0.78834</td><td>14.8268</td><td>38.8625</td><td>9.8379e+13</td><td>699.8</td><td>1.00231</td><td>699.8</td><td>7.0469e+13</td><td>-85.39</td><td>208.72</td><td>-470.92</td><td>2289.0</td><td>0.16268</td><td>0.157662</td><td>5.74128</td><td>2809285813</td><td>8.829e+13</td></tr>\n",
       "<tr><td>755.75</td><td>5696.0</td><td>8.593e+13</td><td>1.00231</td><td>755.75</td><td>9.557e+13</td><td>0.00886</td><td>0.0282461</td><td>0.03026</td><td>0.38106</td><td>1.00231</td><td>0.53571</td><td>8.593e+13</td><td>0.50618</td><td>2809272603</td><td>1.002</td><td>-1</td><td>5.5764e+13</td><td>2809273410</td><td>0.49606</td><td>-1</td><td>0.5964</td><td>0.897055</td><td>842.28</td><td>5859.0</td><td>8.593e+13</td><td>4.912e+13</td><td>-1.683e+15</td><td>6.73e+13</td><td>-1.302e+15</td><td>2.7917e+13</td><td>8.593e+13</td><td>22.98</td><td>21.182</td><td>34.9896</td><td>13.8088</td><td>25.6495</td><td>0.78261</td><td>15.1038</td><td>23.6818</td><td>9.2318e+13</td><td>755.75</td><td>1.00231</td><td>755.75</td><td>7.372e+13</td><td>-365.37</td><td>199.12</td><td>-194.93</td><td>5859.0</td><td>0.3821</td><td>0.097348</td><td>9.21493</td><td>2809273410</td><td>8.593e+13</td></tr>\n",
       "<tr><td>723.39</td><td>1504.0</td><td>8.282e+13</td><td>1.00231</td><td>727.42</td><td>8.581e+13</td><td>-0.0356</td><td>0.0331475</td><td>0.03328</td><td>0.4461</td><td>1.00231</td><td>0.49386</td><td>8.282e+13</td><td>0.52644</td><td>2809483946</td><td>0.9416</td><td>-1</td><td>4.9445e+13</td><td>2809284998</td><td>0.52137</td><td>-1</td><td>0.5966</td><td>0.886089</td><td>785.18</td><td>-2930.0</td><td>8.418e+13</td><td>5.378e+13</td><td>-1.579e+14</td><td>-1.464e+15</td><td>-1.764e+15</td><td>2.3791e+13</td><td>8.282e+13</td><td>49.52</td><td>-20.6847</td><td>-7.4654</td><td>53.5371</td><td>33.3391</td><td>0.5303</td><td>10.4937</td><td>33.392</td><td>9.2833e+13</td><td>723.39</td><td>1.00231</td><td>723.39</td><td>6.7612e+13</td><td>-44.45</td><td>275.28</td><td>-407.85</td><td>-2930.0</td><td>0.43337</td><td>0.121528</td><td>7.29123</td><td>2809284998</td><td>8.282e+13</td></tr>\n",
       "<tr><td>692.87</td><td>3729.0</td><td>8.263e+13</td><td>1.00231</td><td>692.87</td><td>8.437e+13</td><td>0.00092</td><td>0.0723204</td><td>0.06731</td><td>0.09193</td><td>1.00231</td><td>0.59967</td><td>8.263e+13</td><td>0.59731</td><td>2812396416</td><td>1.002</td><td>-1</td><td>4.4098e+13</td><td>2810866534</td><td>0.57706</td><td>-1</td><td>0.625</td><td>0.885411</td><td>755.64</td><td>1648.0</td><td>8.263e+13</td><td>5.909e+13</td><td>-4.94e+15</td><td>2.523e+13</td><td>1.688e+14</td><td>2.173e+13</td><td>8.263e+13</td><td>103.69</td><td>42.5687</td><td>-16.7622</td><td>28.5037</td><td>6.28848</td><td>0.77877</td><td>46.2185</td><td>41.9007</td><td>9.3801e+13</td><td>692.87</td><td>1.00231</td><td>692.87</td><td>6.3353e+13</td><td>-255.78</td><td>139.39</td><td>30.36</td><td>1648.0</td><td>0.15712</td><td>0.148718</td><td>5.95362</td><td>2810866534</td><td>8.263e+13</td></tr>\n",
       "</table>"
      ],
      "text/plain": [
       "<Table length=10>\n",
       "halo_vmax_firstacc halo_dmvir_dt_tdyn ... halo_hostid halo_mvir_host_halo\n",
       "     float32            float32       ...    int64          float32      \n",
       "------------------ ------------------ ... ----------- -------------------\n",
       "           1001.57            12810.0 ...  2811042639           2.008e+14\n",
       "             895.2            13760.0 ...  2811055606           1.796e+14\n",
       "            853.83             4666.0 ...  2809250167           1.298e+14\n",
       "            777.64             4401.0 ...  2809483946            1.03e+14\n",
       "            748.56            11480.0 ...  2809272603           9.947e+13\n",
       "            793.17            -2158.0 ...  2809261554           9.503e+13\n",
       "             699.8             8478.0 ...  2809285813           8.829e+13\n",
       "            755.75             5696.0 ...  2809273410           8.593e+13\n",
       "            723.39             1504.0 ...  2809284998           8.282e+13\n",
       "            692.87             3729.0 ...  2810866534           8.263e+13"
      ]
     },
     "execution_count": 91,
     "metadata": {},
     "output_type": "execute_result"
    }
   ],
   "source": [
    "table"
   ]
  },
  {
   "cell_type": "code",
   "execution_count": 101,
   "metadata": {
    "collapsed": false
   },
   "outputs": [],
   "source": [
    "los_direction = 'x'\n",
    "pos_gals_d = return_xyz_formatted_array(*(table['halo_'+ax] for ax in 'yzx'), \\\n",
    "            velocity=table['halo_v'+los_direction], velocity_distortion_dimension='z', period=Lbox)"
   ]
  },
  {
   "cell_type": "code",
   "execution_count": 102,
   "metadata": {
    "collapsed": false
   },
   "outputs": [
    {
     "data": {
      "text/plain": [
       "array([[ 43.14081955,  17.96339035,  36.34083939],\n",
       "       [ 49.54417038,  40.01593018,  45.3910408 ],\n",
       "       [ 13.88261032,   9.80152988,  22.20808029],\n",
       "       [ 36.67881012,  34.18085098,   9.48418045],\n",
       "       [ 26.12877083,  22.50090027,  10.22167015],\n",
       "       [ 29.54940033,  18.11720085,   4.74732018],\n",
       "       [ 24.66324997,  38.86248016,  13.97288036],\n",
       "       [ 25.64953041,  23.6818409 ,  11.45014   ],\n",
       "       [ 33.33908081,  33.39197922,  10.04918003],\n",
       "       [  6.2884798 ,  41.90069962,  43.6607399 ]], dtype=float32)"
      ]
     },
     "execution_count": 102,
     "metadata": {},
     "output_type": "execute_result"
    }
   ],
   "source": [
    "pos_gals_d"
   ]
  },
  {
   "cell_type": "code",
   "execution_count": null,
   "metadata": {
    "collapsed": true
   },
   "outputs": [],
   "source": []
  }
 ],
 "metadata": {
  "kernelspec": {
   "display_name": "Python 2",
   "language": "python",
   "name": "python2"
  },
  "language_info": {
   "codemirror_mode": {
    "name": "ipython",
    "version": 2
   },
   "file_extension": ".py",
   "mimetype": "text/x-python",
   "name": "python",
   "nbconvert_exporter": "python",
   "pygments_lexer": "ipython2",
   "version": "2.7.12"
  }
 },
 "nbformat": 4,
 "nbformat_minor": 0
}
