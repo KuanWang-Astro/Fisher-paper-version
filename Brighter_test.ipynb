{
 "cells": [
  {
   "cell_type": "code",
   "execution_count": 1,
   "metadata": {
    "collapsed": true
   },
   "outputs": [],
   "source": [
    "import numpy as np\n",
    "import matplotlib.pyplot as plt\n",
    "from matplotlib import cm\n",
    "%matplotlib inline\n",
    "%config InlineBackend.figure_format='retina'\n",
    "import collections\n",
    "from matplotlib import rcParams\n",
    "rcParams['font.family'] = 'serif'\n",
    "rcParams['mathtext.fontset'] = 'dejavuserif'\n",
    "rcParams['mathtext.rm'] = 'serif'\n",
    "rcParams['mathtext.it'] = 'serif:italic'\n",
    "rcParams['mathtext.bf'] = 'serif:bold'\n",
    "rcParams['axes.titlepad'] = 12"
   ]
  },
  {
   "cell_type": "code",
   "execution_count": 4,
   "metadata": {
    "collapsed": false
   },
   "outputs": [],
   "source": [
    "from halotools.sim_manager import CachedHaloCatalog"
   ]
  },
  {
   "cell_type": "code",
   "execution_count": 5,
   "metadata": {
    "collapsed": true
   },
   "outputs": [],
   "source": [
    "halocat = CachedHaloCatalog(simname='bolplanck',version_name='halotools_v0p4',halo_finder='rockstar',redshift=0.0)"
   ]
  },
  {
   "cell_type": "code",
   "execution_count": 16,
   "metadata": {
    "collapsed": true
   },
   "outputs": [],
   "source": [
    "from HOD_models_fix import decorated_hod_model"
   ]
  },
  {
   "cell_type": "code",
   "execution_count": 18,
   "metadata": {
    "collapsed": false
   },
   "outputs": [],
   "source": [
    "model = decorated_hod_model()"
   ]
  },
  {
   "cell_type": "code",
   "execution_count": 62,
   "metadata": {
    "collapsed": false
   },
   "outputs": [],
   "source": [
    "model.param_dict['alpha'] = 1.4\n",
    "model.param_dict['logM1'] = 14.3\n",
    "model.param_dict['sigma_logM'] = 0.5\n",
    "model.param_dict['logM0'] = 12.3\n",
    "model.param_dict['logMmin'] = 13.4"
   ]
  },
  {
   "cell_type": "code",
   "execution_count": 63,
   "metadata": {
    "collapsed": true
   },
   "outputs": [],
   "source": [
    "model.populate_mock(halocat)"
   ]
  },
  {
   "cell_type": "code",
   "execution_count": 64,
   "metadata": {
    "collapsed": false
   },
   "outputs": [
    {
     "data": {
      "text/html": [
       "&lt;Table length=4527&gt;\n",
       "<table id=\"table139678326752656\" class=\"table-striped table-bordered table-condensed\">\n",
       "<thead><tr><th>halo_upid</th><th>halo_hostid</th><th>halo_nfw_conc</th><th>halo_y</th><th>halo_x</th><th>halo_id</th><th>halo_vx</th><th>halo_vy</th><th>halo_vz</th><th>conc_NFWmodel</th><th>halo_rvir</th><th>halo_z</th><th>halo_mvir</th><th>halo_num_centrals</th><th>halo_num_satellites</th><th>gal_type</th><th>vx</th><th>host_centric_distance</th><th>vy</th><th>y</th><th>x</th><th>vz</th><th>z</th></tr></thead>\n",
       "<thead><tr><th>int64</th><th>int64</th><th>float32</th><th>float32</th><th>float32</th><th>int64</th><th>float32</th><th>float32</th><th>float32</th><th>float32</th><th>float32</th><th>float32</th><th>float32</th><th>int32</th><th>int32</th><th>object</th><th>float32</th><th>float64</th><th>float32</th><th>float32</th><th>float32</th><th>float32</th><th>float32</th></tr></thead>\n",
       "<tr><td>-1</td><td>2811042639</td><td>8.62937</td><td>43.1408</td><td>36.1798</td><td>2811042639</td><td>16.1</td><td>8.51</td><td>-78.88</td><td>8.62937</td><td>1.19045</td><td>17.9634</td><td>2.008e+14</td><td>1</td><td>3</td><td>centrals</td><td>16.1</td><td>0.0</td><td>8.51</td><td>43.1408</td><td>36.1798</td><td>-78.88</td><td>17.9634</td></tr>\n",
       "<tr><td>-1</td><td>2811055606</td><td>6.17233</td><td>49.5442</td><td>45.3664</td><td>2811055606</td><td>2.46</td><td>264.77</td><td>-128.08</td><td>6.17233</td><td>1.14685</td><td>40.0159</td><td>1.796e+14</td><td>1</td><td>0</td><td>centrals</td><td>2.46</td><td>0.0</td><td>264.77</td><td>49.5442</td><td>45.3664</td><td>-128.08</td><td>40.0159</td></tr>\n",
       "<tr><td>-1</td><td>2809250167</td><td>8.62862</td><td>13.8826</td><td>22.0232</td><td>2809250167</td><td>18.49</td><td>124.89</td><td>-35.19</td><td>8.62862</td><td>1.02934</td><td>9.80153</td><td>1.298e+14</td><td>1</td><td>0</td><td>centrals</td><td>18.49</td><td>0.0</td><td>124.89</td><td>13.8826</td><td>22.0232</td><td>-35.19</td><td>9.80153</td></tr>\n",
       "<tr><td>-1</td><td>2809483946</td><td>7.20131</td><td>36.6788</td><td>12.2979</td><td>2809483946</td><td>-281.37</td><td>-115.39</td><td>-391.28</td><td>7.20131</td><td>0.952978</td><td>34.1809</td><td>1.03e+14</td><td>1</td><td>0</td><td>centrals</td><td>-281.37</td><td>0.0</td><td>-115.39</td><td>36.6788</td><td>12.2979</td><td>-391.28</td><td>34.1809</td></tr>\n",
       "<tr><td>-1</td><td>2809272603</td><td>6.69101</td><td>26.1288</td><td>10.6604</td><td>2809272603</td><td>-43.87</td><td>292.95</td><td>-171.47</td><td>6.69101</td><td>0.941893</td><td>22.5009</td><td>9.947e+13</td><td>1</td><td>0</td><td>centrals</td><td>-43.87</td><td>0.0</td><td>292.95</td><td>26.1288</td><td>10.6604</td><td>-171.47</td><td>22.5009</td></tr>\n",
       "<tr><td>-1</td><td>2809261554</td><td>9.26116</td><td>29.5494</td><td>1.93592</td><td>2809261554</td><td>281.14</td><td>229.38</td><td>224.59</td><td>9.26116</td><td>0.927672</td><td>18.1172</td><td>9.503e+13</td><td>1</td><td>0</td><td>centrals</td><td>281.14</td><td>0.0</td><td>229.38</td><td>29.5494</td><td>1.93592</td><td>224.59</td><td>18.1172</td></tr>\n",
       "<tr><td>-1</td><td>2809273410</td><td>9.21493</td><td>25.6495</td><td>15.1038</td><td>2809273410</td><td>-365.37</td><td>199.12</td><td>-194.93</td><td>9.21493</td><td>0.897055</td><td>23.6818</td><td>8.593e+13</td><td>1</td><td>0</td><td>centrals</td><td>-365.37</td><td>0.0</td><td>199.12</td><td>25.6495</td><td>15.1038</td><td>-194.93</td><td>23.6818</td></tr>\n",
       "<tr><td>-1</td><td>2809284998</td><td>7.29123</td><td>33.3391</td><td>10.4937</td><td>2809284998</td><td>-44.45</td><td>275.28</td><td>-407.85</td><td>7.29123</td><td>0.886089</td><td>33.392</td><td>8.282e+13</td><td>1</td><td>0</td><td>centrals</td><td>-44.45</td><td>0.0</td><td>275.28</td><td>33.3391</td><td>10.4937</td><td>-407.85</td><td>33.392</td></tr>\n",
       "<tr><td>-1</td><td>2810866534</td><td>5.95362</td><td>6.28848</td><td>46.2185</td><td>2810866534</td><td>-255.78</td><td>139.39</td><td>30.36</td><td>5.95362</td><td>0.885411</td><td>41.9007</td><td>8.263e+13</td><td>1</td><td>0</td><td>centrals</td><td>-255.78</td><td>0.0</td><td>139.39</td><td>6.28848</td><td>46.2185</td><td>30.36</td><td>41.9007</td></tr>\n",
       "<tr><td>-1</td><td>2809250838</td><td>6.90835</td><td>14.2949</td><td>26.5861</td><td>2809250838</td><td>-166.29</td><td>78.09</td><td>342.47</td><td>6.90835</td><td>0.849955</td><td>6.27192</td><td>7.309e+13</td><td>1</td><td>0</td><td>centrals</td><td>-166.29</td><td>0.0</td><td>78.09</td><td>14.2949</td><td>26.5861</td><td>342.47</td><td>6.27192</td></tr>\n",
       "<tr><td>...</td><td>...</td><td>...</td><td>...</td><td>...</td><td>...</td><td>...</td><td>...</td><td>...</td><td>...</td><td>...</td><td>...</td><td>...</td><td>...</td><td>...</td><td>...</td><td>...</td><td>...</td><td>...</td><td>...</td><td>...</td><td>...</td><td>...</td></tr>\n",
       "<tr><td>-1</td><td>2821902427</td><td>6.3422</td><td>219.821</td><td>242.143</td><td>2821902427</td><td>-152.76</td><td>368.11</td><td>142.6</td><td>6.3422</td><td>1.3887</td><td>222.259</td><td>3.188e+14</td><td>1</td><td>5</td><td>satellites</td><td>-212.649</td><td>1.03106607233</td><td>-243.273</td><td>219.112</td><td>241.553</td><td>-412.695</td><td>221.798</td></tr>\n",
       "<tr><td>-1</td><td>2821902427</td><td>6.3422</td><td>219.821</td><td>242.143</td><td>2821902427</td><td>-152.76</td><td>368.11</td><td>142.6</td><td>6.3422</td><td>1.3887</td><td>222.259</td><td>3.188e+14</td><td>1</td><td>5</td><td>satellites</td><td>-253.572</td><td>1.12559532068</td><td>-571.32</td><td>220.024</td><td>241.833</td><td>-285.326</td><td>221.196</td></tr>\n",
       "<tr><td>-1</td><td>2821902427</td><td>6.3422</td><td>219.821</td><td>242.143</td><td>2821902427</td><td>-152.76</td><td>368.11</td><td>142.6</td><td>6.3422</td><td>1.3887</td><td>222.259</td><td>3.188e+14</td><td>1</td><td>5</td><td>satellites</td><td>654.866</td><td>0.257076283081</td><td>-65.1987</td><td>220.075</td><td>242.109</td><td>355.63</td><td>222.278</td></tr>\n",
       "<tr><td>-1</td><td>2821902427</td><td>6.3422</td><td>219.821</td><td>242.143</td><td>2821902427</td><td>-152.76</td><td>368.11</td><td>142.6</td><td>6.3422</td><td>1.3887</td><td>222.259</td><td>3.188e+14</td><td>1</td><td>5</td><td>satellites</td><td>-1291.32</td><td>0.865504638757</td><td>-561.994</td><td>219.839</td><td>241.743</td><td>217.359</td><td>221.491</td></tr>\n",
       "<tr><td>-1</td><td>2821902427</td><td>6.3422</td><td>219.821</td><td>242.143</td><td>2821902427</td><td>-152.76</td><td>368.11</td><td>142.6</td><td>6.3422</td><td>1.3887</td><td>222.259</td><td>3.188e+14</td><td>1</td><td>5</td><td>satellites</td><td>-57.0395</td><td>0.320718957654</td><td>932.789</td><td>220.113</td><td>242.084</td><td>939.947</td><td>222.377</td></tr>\n",
       "<tr><td>-1</td><td>2821890241</td><td>4.92924</td><td>224.291</td><td>240.751</td><td>2821890241</td><td>245.68</td><td>-1.43</td><td>352.17</td><td>4.92924</td><td>1.15114</td><td>216.976</td><td>1.816e+14</td><td>0</td><td>1</td><td>satellites</td><td>819.27</td><td>0.633171350663</td><td>152.133</td><td>224.529</td><td>240.876</td><td>832.078</td><td>217.549</td></tr>\n",
       "<tr><td>-1</td><td>2821910436</td><td>7.76847</td><td>226.49</td><td>223.458</td><td>2821910436</td><td>470.52</td><td>57.63</td><td>-167.97</td><td>7.76847</td><td>0.714124</td><td>223.642</td><td>4.335e+13</td><td>1</td><td>1</td><td>satellites</td><td>304.285</td><td>0.493148273451</td><td>4.06924</td><td>226.904</td><td>223.681</td><td>-55.4948</td><td>223.79</td></tr>\n",
       "<tr><td>-1</td><td>2820364438</td><td>7.67582</td><td>227.952</td><td>220.887</td><td>2820364438</td><td>388.4</td><td>480.14</td><td>-85.59</td><td>7.67582</td><td>0.621373</td><td>245.134</td><td>2.856e+13</td><td>1</td><td>1</td><td>satellites</td><td>67.5109</td><td>0.462665527922</td><td>511.245</td><td>227.969</td><td>220.46</td><td>-144.177</td><td>245.31</td></tr>\n",
       "<tr><td>-1</td><td>2821878268</td><td>8.98095</td><td>221.686</td><td>246.171</td><td>2821878268</td><td>-3.6</td><td>72.7</td><td>300.99</td><td>8.98095</td><td>0.4158</td><td>213.33</td><td>8.558e+12</td><td>0</td><td>1</td><td>satellites</td><td>-79.208</td><td>0.162055852526</td><td>314.392</td><td>221.841</td><td>246.209</td><td>155.451</td><td>213.3</td></tr>\n",
       "<tr><td>-1</td><td>2820155718</td><td>7.20159</td><td>203.528</td><td>202.377</td><td>2820155718</td><td>253.59</td><td>146.62</td><td>-14.97</td><td>7.20159</td><td>0.394258</td><td>227.138</td><td>7.295e+12</td><td>1</td><td>1</td><td>satellites</td><td>226.879</td><td>0.0650995056887</td><td>516.424</td><td>203.586</td><td>202.354</td><td>62.4148</td><td>227.12</td></tr>\n",
       "</table>"
      ],
      "text/plain": [
       "<Table length=4527>\n",
       "halo_upid halo_hostid halo_nfw_conc  halo_y ...    y       x       vz       z   \n",
       "  int64      int64       float32    float32 ... float32 float32 float32  float32\n",
       "--------- ----------- ------------- ------- ... ------- ------- -------- -------\n",
       "       -1  2811042639       8.62937 43.1408 ... 43.1408 36.1798   -78.88 17.9634\n",
       "       -1  2811055606       6.17233 49.5442 ... 49.5442 45.3664  -128.08 40.0159\n",
       "       -1  2809250167       8.62862 13.8826 ... 13.8826 22.0232   -35.19 9.80153\n",
       "       -1  2809483946       7.20131 36.6788 ... 36.6788 12.2979  -391.28 34.1809\n",
       "       -1  2809272603       6.69101 26.1288 ... 26.1288 10.6604  -171.47 22.5009\n",
       "       -1  2809261554       9.26116 29.5494 ... 29.5494 1.93592   224.59 18.1172\n",
       "       -1  2809273410       9.21493 25.6495 ... 25.6495 15.1038  -194.93 23.6818\n",
       "       -1  2809284998       7.29123 33.3391 ... 33.3391 10.4937  -407.85  33.392\n",
       "       -1  2810866534       5.95362 6.28848 ... 6.28848 46.2185    30.36 41.9007\n",
       "       -1  2809250838       6.90835 14.2949 ... 14.2949 26.5861   342.47 6.27192\n",
       "      ...         ...           ...     ... ...     ...     ...      ...     ...\n",
       "       -1  2821902427        6.3422 219.821 ... 219.112 241.553 -412.695 221.798\n",
       "       -1  2821902427        6.3422 219.821 ... 220.024 241.833 -285.326 221.196\n",
       "       -1  2821902427        6.3422 219.821 ... 220.075 242.109   355.63 222.278\n",
       "       -1  2821902427        6.3422 219.821 ... 219.839 241.743  217.359 221.491\n",
       "       -1  2821902427        6.3422 219.821 ... 220.113 242.084  939.947 222.377\n",
       "       -1  2821890241       4.92924 224.291 ... 224.529 240.876  832.078 217.549\n",
       "       -1  2821910436       7.76847  226.49 ... 226.904 223.681 -55.4948  223.79\n",
       "       -1  2820364438       7.67582 227.952 ... 227.969  220.46 -144.177  245.31\n",
       "       -1  2821878268       8.98095 221.686 ... 221.841 246.209  155.451   213.3\n",
       "       -1  2820155718       7.20159 203.528 ... 203.586 202.354  62.4148  227.12"
      ]
     },
     "execution_count": 64,
     "metadata": {},
     "output_type": "execute_result"
    }
   ],
   "source": [
    "model.mock.galaxy_table"
   ]
  },
  {
   "cell_type": "code",
   "execution_count": 52,
   "metadata": {
    "collapsed": false
   },
   "outputs": [
    {
     "data": {
      "text/plain": [
       "4531.25"
      ]
     },
     "execution_count": 52,
     "metadata": {},
     "output_type": "execute_result"
    }
   ],
   "source": [
    "0.29/1000*250**3"
   ]
  },
  {
   "cell_type": "code",
   "execution_count": null,
   "metadata": {
    "collapsed": true
   },
   "outputs": [],
   "source": []
  }
 ],
 "metadata": {
  "kernelspec": {
   "display_name": "Python 2",
   "language": "python",
   "name": "python2"
  },
  "language_info": {
   "codemirror_mode": {
    "name": "ipython",
    "version": 2
   },
   "file_extension": ".py",
   "mimetype": "text/x-python",
   "name": "python",
   "nbconvert_exporter": "python",
   "pygments_lexer": "ipython2",
   "version": "2.7.12"
  }
 },
 "nbformat": 4,
 "nbformat_minor": 0
}
